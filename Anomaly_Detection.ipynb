{
 "cells": [
  {
   "cell_type": "markdown",
   "source": [
    "# Anomaly Detection\r\n"
   ],
   "metadata": {}
  },
  {
   "cell_type": "markdown",
   "source": [
    "## i. Introduction\r\n",
    "Nama : Darmawan Wijaya </br>\r\n",
    "Kelas : FTDS - 002 </br>\r\n",
    "Obyektif : Mengaplikasikan anomaly detection dari data transaksi kartu kredit"
   ],
   "metadata": {}
  },
  {
   "cell_type": "markdown",
   "source": [
    "## ii. Import Pustaka\r\n",
    "Pustaka yang digunakan pada proyek ini adalah:</br>\r\n",
    "1. Numpy\r\n",
    "2. Pandas\r\n",
    "3. Scikit Learn\r\n",
    "4. Matplotlib\r\n",
    "5. Seaborn"
   ],
   "metadata": {}
  },
  {
   "cell_type": "code",
   "execution_count": 3,
   "source": [
    "#Proses import dari pustaka yang digunakan\r\n",
    "import pandas as pd\r\n",
    "import numpy as np\r\n",
    "import matplotlib as mpl\r\n",
    "import matplotlib.pyplot as plt\r\n",
    "import seaborn as sns\r\n",
    "import os\r\n",
    "from sklearn.model_selection import train_test_split\r\n",
    "from sklearn.ensemble import RandomForestClassifier\r\n",
    "from sklearn.neighbors import KNeighborsClassifier\r\n",
    "from sklearn.linear_model import LogisticRegression\r\n",
    "from sklearn.svm import SVC\r\n",
    "from sklearn import model_selection\r\n",
    "from sklearn.preprocessing import StandardScaler\r\n",
    "from sklearn.tree import DecisionTreeClassifier\r\n",
    "from sklearn.ensemble import RandomForestClassifier\r\n",
    "from sklearn.neighbors import KNeighborsClassifier\r\n",
    "from sklearn.naive_bayes import GaussianNB\r\n",
    "\r\n",
    "from sklearn.metrics import confusion_matrix, classification_report\r\n",
    "from sklearn.metrics import roc_auc_score\r\n",
    "\r\n",
    "\r\n",
    "\r\n",
    "#Kode tambahan untuk menampilkan angka desimal maksimal 5 angka dibelakang koma sehingga angka lebih mudah dipahami\r\n",
    "pd.set_option('display.float_format', lambda x: '%.5f' % x)"
   ],
   "outputs": [],
   "metadata": {}
  },
  {
   "cell_type": "markdown",
   "source": [
    "## iii. Data Loading\r\n",
    "Data yang digunakan adalah data transaksi kartu kredit. </br>\r\n",
    "Namun dikarenakan kerahasiaan data, variabel yang disediakan merupakan variabel turunan dari PCA, dan variabel aslinya tidak dapat diberikan. </br>\r\n",
    "Terdapat 2 Variabel selain hasil PCA yaitu Time yang berarti waktu antar transaksi dan Amount yang berarti jumlah transaksi</br>\r\n",
    "\r\n",
    "Data tersebut dapat diunduh pada : https://www.kaggle.com/mlg-ulb/creditcardfraud\r\n"
   ],
   "metadata": {}
  },
  {
   "cell_type": "code",
   "execution_count": 4,
   "source": [
    "df = pd.read_csv('creditcard.csv')\r\n",
    "df.info()"
   ],
   "outputs": [
    {
     "output_type": "stream",
     "name": "stdout",
     "text": [
      "<class 'pandas.core.frame.DataFrame'>\n",
      "RangeIndex: 284807 entries, 0 to 284806\n",
      "Data columns (total 31 columns):\n",
      " #   Column  Non-Null Count   Dtype  \n",
      "---  ------  --------------   -----  \n",
      " 0   Time    284807 non-null  float64\n",
      " 1   V1      284807 non-null  float64\n",
      " 2   V2      284807 non-null  float64\n",
      " 3   V3      284807 non-null  float64\n",
      " 4   V4      284807 non-null  float64\n",
      " 5   V5      284807 non-null  float64\n",
      " 6   V6      284807 non-null  float64\n",
      " 7   V7      284807 non-null  float64\n",
      " 8   V8      284807 non-null  float64\n",
      " 9   V9      284807 non-null  float64\n",
      " 10  V10     284807 non-null  float64\n",
      " 11  V11     284807 non-null  float64\n",
      " 12  V12     284807 non-null  float64\n",
      " 13  V13     284807 non-null  float64\n",
      " 14  V14     284807 non-null  float64\n",
      " 15  V15     284807 non-null  float64\n",
      " 16  V16     284807 non-null  float64\n",
      " 17  V17     284807 non-null  float64\n",
      " 18  V18     284807 non-null  float64\n",
      " 19  V19     284807 non-null  float64\n",
      " 20  V20     284807 non-null  float64\n",
      " 21  V21     284807 non-null  float64\n",
      " 22  V22     284807 non-null  float64\n",
      " 23  V23     284807 non-null  float64\n",
      " 24  V24     284807 non-null  float64\n",
      " 25  V25     284807 non-null  float64\n",
      " 26  V26     284807 non-null  float64\n",
      " 27  V27     284807 non-null  float64\n",
      " 28  V28     284807 non-null  float64\n",
      " 29  Amount  284807 non-null  float64\n",
      " 30  Class   284807 non-null  int64  \n",
      "dtypes: float64(30), int64(1)\n",
      "memory usage: 67.4 MB\n"
     ]
    }
   ],
   "metadata": {}
  },
  {
   "cell_type": "code",
   "execution_count": 5,
   "source": [
    "df.head()"
   ],
   "outputs": [
    {
     "output_type": "execute_result",
     "data": {
      "text/html": [
       "<div>\n",
       "<style scoped>\n",
       "    .dataframe tbody tr th:only-of-type {\n",
       "        vertical-align: middle;\n",
       "    }\n",
       "\n",
       "    .dataframe tbody tr th {\n",
       "        vertical-align: top;\n",
       "    }\n",
       "\n",
       "    .dataframe thead th {\n",
       "        text-align: right;\n",
       "    }\n",
       "</style>\n",
       "<table border=\"1\" class=\"dataframe\">\n",
       "  <thead>\n",
       "    <tr style=\"text-align: right;\">\n",
       "      <th></th>\n",
       "      <th>Time</th>\n",
       "      <th>V1</th>\n",
       "      <th>V2</th>\n",
       "      <th>V3</th>\n",
       "      <th>V4</th>\n",
       "      <th>V5</th>\n",
       "      <th>V6</th>\n",
       "      <th>V7</th>\n",
       "      <th>V8</th>\n",
       "      <th>V9</th>\n",
       "      <th>...</th>\n",
       "      <th>V21</th>\n",
       "      <th>V22</th>\n",
       "      <th>V23</th>\n",
       "      <th>V24</th>\n",
       "      <th>V25</th>\n",
       "      <th>V26</th>\n",
       "      <th>V27</th>\n",
       "      <th>V28</th>\n",
       "      <th>Amount</th>\n",
       "      <th>Class</th>\n",
       "    </tr>\n",
       "  </thead>\n",
       "  <tbody>\n",
       "    <tr>\n",
       "      <th>0</th>\n",
       "      <td>0.00000</td>\n",
       "      <td>-1.35981</td>\n",
       "      <td>-0.07278</td>\n",
       "      <td>2.53635</td>\n",
       "      <td>1.37816</td>\n",
       "      <td>-0.33832</td>\n",
       "      <td>0.46239</td>\n",
       "      <td>0.23960</td>\n",
       "      <td>0.09870</td>\n",
       "      <td>0.36379</td>\n",
       "      <td>...</td>\n",
       "      <td>-0.01831</td>\n",
       "      <td>0.27784</td>\n",
       "      <td>-0.11047</td>\n",
       "      <td>0.06693</td>\n",
       "      <td>0.12854</td>\n",
       "      <td>-0.18911</td>\n",
       "      <td>0.13356</td>\n",
       "      <td>-0.02105</td>\n",
       "      <td>149.62000</td>\n",
       "      <td>0</td>\n",
       "    </tr>\n",
       "    <tr>\n",
       "      <th>1</th>\n",
       "      <td>0.00000</td>\n",
       "      <td>1.19186</td>\n",
       "      <td>0.26615</td>\n",
       "      <td>0.16648</td>\n",
       "      <td>0.44815</td>\n",
       "      <td>0.06002</td>\n",
       "      <td>-0.08236</td>\n",
       "      <td>-0.07880</td>\n",
       "      <td>0.08510</td>\n",
       "      <td>-0.25543</td>\n",
       "      <td>...</td>\n",
       "      <td>-0.22578</td>\n",
       "      <td>-0.63867</td>\n",
       "      <td>0.10129</td>\n",
       "      <td>-0.33985</td>\n",
       "      <td>0.16717</td>\n",
       "      <td>0.12589</td>\n",
       "      <td>-0.00898</td>\n",
       "      <td>0.01472</td>\n",
       "      <td>2.69000</td>\n",
       "      <td>0</td>\n",
       "    </tr>\n",
       "    <tr>\n",
       "      <th>2</th>\n",
       "      <td>1.00000</td>\n",
       "      <td>-1.35835</td>\n",
       "      <td>-1.34016</td>\n",
       "      <td>1.77321</td>\n",
       "      <td>0.37978</td>\n",
       "      <td>-0.50320</td>\n",
       "      <td>1.80050</td>\n",
       "      <td>0.79146</td>\n",
       "      <td>0.24768</td>\n",
       "      <td>-1.51465</td>\n",
       "      <td>...</td>\n",
       "      <td>0.24800</td>\n",
       "      <td>0.77168</td>\n",
       "      <td>0.90941</td>\n",
       "      <td>-0.68928</td>\n",
       "      <td>-0.32764</td>\n",
       "      <td>-0.13910</td>\n",
       "      <td>-0.05535</td>\n",
       "      <td>-0.05975</td>\n",
       "      <td>378.66000</td>\n",
       "      <td>0</td>\n",
       "    </tr>\n",
       "    <tr>\n",
       "      <th>3</th>\n",
       "      <td>1.00000</td>\n",
       "      <td>-0.96627</td>\n",
       "      <td>-0.18523</td>\n",
       "      <td>1.79299</td>\n",
       "      <td>-0.86329</td>\n",
       "      <td>-0.01031</td>\n",
       "      <td>1.24720</td>\n",
       "      <td>0.23761</td>\n",
       "      <td>0.37744</td>\n",
       "      <td>-1.38702</td>\n",
       "      <td>...</td>\n",
       "      <td>-0.10830</td>\n",
       "      <td>0.00527</td>\n",
       "      <td>-0.19032</td>\n",
       "      <td>-1.17558</td>\n",
       "      <td>0.64738</td>\n",
       "      <td>-0.22193</td>\n",
       "      <td>0.06272</td>\n",
       "      <td>0.06146</td>\n",
       "      <td>123.50000</td>\n",
       "      <td>0</td>\n",
       "    </tr>\n",
       "    <tr>\n",
       "      <th>4</th>\n",
       "      <td>2.00000</td>\n",
       "      <td>-1.15823</td>\n",
       "      <td>0.87774</td>\n",
       "      <td>1.54872</td>\n",
       "      <td>0.40303</td>\n",
       "      <td>-0.40719</td>\n",
       "      <td>0.09592</td>\n",
       "      <td>0.59294</td>\n",
       "      <td>-0.27053</td>\n",
       "      <td>0.81774</td>\n",
       "      <td>...</td>\n",
       "      <td>-0.00943</td>\n",
       "      <td>0.79828</td>\n",
       "      <td>-0.13746</td>\n",
       "      <td>0.14127</td>\n",
       "      <td>-0.20601</td>\n",
       "      <td>0.50229</td>\n",
       "      <td>0.21942</td>\n",
       "      <td>0.21515</td>\n",
       "      <td>69.99000</td>\n",
       "      <td>0</td>\n",
       "    </tr>\n",
       "  </tbody>\n",
       "</table>\n",
       "<p>5 rows × 31 columns</p>\n",
       "</div>"
      ],
      "text/plain": [
       "     Time       V1       V2      V3       V4       V5       V6       V7  \\\n",
       "0 0.00000 -1.35981 -0.07278 2.53635  1.37816 -0.33832  0.46239  0.23960   \n",
       "1 0.00000  1.19186  0.26615 0.16648  0.44815  0.06002 -0.08236 -0.07880   \n",
       "2 1.00000 -1.35835 -1.34016 1.77321  0.37978 -0.50320  1.80050  0.79146   \n",
       "3 1.00000 -0.96627 -0.18523 1.79299 -0.86329 -0.01031  1.24720  0.23761   \n",
       "4 2.00000 -1.15823  0.87774 1.54872  0.40303 -0.40719  0.09592  0.59294   \n",
       "\n",
       "        V8       V9  ...      V21      V22      V23      V24      V25  \\\n",
       "0  0.09870  0.36379  ... -0.01831  0.27784 -0.11047  0.06693  0.12854   \n",
       "1  0.08510 -0.25543  ... -0.22578 -0.63867  0.10129 -0.33985  0.16717   \n",
       "2  0.24768 -1.51465  ...  0.24800  0.77168  0.90941 -0.68928 -0.32764   \n",
       "3  0.37744 -1.38702  ... -0.10830  0.00527 -0.19032 -1.17558  0.64738   \n",
       "4 -0.27053  0.81774  ... -0.00943  0.79828 -0.13746  0.14127 -0.20601   \n",
       "\n",
       "       V26      V27      V28    Amount  Class  \n",
       "0 -0.18911  0.13356 -0.02105 149.62000      0  \n",
       "1  0.12589 -0.00898  0.01472   2.69000      0  \n",
       "2 -0.13910 -0.05535 -0.05975 378.66000      0  \n",
       "3 -0.22193  0.06272  0.06146 123.50000      0  \n",
       "4  0.50229  0.21942  0.21515  69.99000      0  \n",
       "\n",
       "[5 rows x 31 columns]"
      ]
     },
     "metadata": {},
     "execution_count": 5
    }
   ],
   "metadata": {}
  },
  {
   "cell_type": "markdown",
   "source": [
    "## iv. Data Cleaning\r\n",
    "Data cleaning adalah proses penyiapan data sebelum dilakukan eksplorasi dan pengolahan data lebih lanjut. </br>\r\n",
    "Proses data cleaning yang digunakan pada proyek ini adalah: </br>\r\n",
    "1. Pengecekan Data Duplikat\r\n",
    "2. Pengecekan Missing Values"
   ],
   "metadata": {}
  },
  {
   "cell_type": "code",
   "execution_count": 6,
   "source": [
    "#Proses Pengecekan Data Duplikat\r\n",
    "duplicate = df[df.duplicated()]\r\n",
    "duplicate"
   ],
   "outputs": [
    {
     "output_type": "execute_result",
     "data": {
      "text/html": [
       "<div>\n",
       "<style scoped>\n",
       "    .dataframe tbody tr th:only-of-type {\n",
       "        vertical-align: middle;\n",
       "    }\n",
       "\n",
       "    .dataframe tbody tr th {\n",
       "        vertical-align: top;\n",
       "    }\n",
       "\n",
       "    .dataframe thead th {\n",
       "        text-align: right;\n",
       "    }\n",
       "</style>\n",
       "<table border=\"1\" class=\"dataframe\">\n",
       "  <thead>\n",
       "    <tr style=\"text-align: right;\">\n",
       "      <th></th>\n",
       "      <th>Time</th>\n",
       "      <th>V1</th>\n",
       "      <th>V2</th>\n",
       "      <th>V3</th>\n",
       "      <th>V4</th>\n",
       "      <th>V5</th>\n",
       "      <th>V6</th>\n",
       "      <th>V7</th>\n",
       "      <th>V8</th>\n",
       "      <th>V9</th>\n",
       "      <th>...</th>\n",
       "      <th>V21</th>\n",
       "      <th>V22</th>\n",
       "      <th>V23</th>\n",
       "      <th>V24</th>\n",
       "      <th>V25</th>\n",
       "      <th>V26</th>\n",
       "      <th>V27</th>\n",
       "      <th>V28</th>\n",
       "      <th>Amount</th>\n",
       "      <th>Class</th>\n",
       "    </tr>\n",
       "  </thead>\n",
       "  <tbody>\n",
       "    <tr>\n",
       "      <th>33</th>\n",
       "      <td>26.00000</td>\n",
       "      <td>-0.52991</td>\n",
       "      <td>0.87389</td>\n",
       "      <td>1.34725</td>\n",
       "      <td>0.14546</td>\n",
       "      <td>0.41421</td>\n",
       "      <td>0.10022</td>\n",
       "      <td>0.71121</td>\n",
       "      <td>0.17607</td>\n",
       "      <td>-0.28672</td>\n",
       "      <td>...</td>\n",
       "      <td>0.04695</td>\n",
       "      <td>0.20810</td>\n",
       "      <td>-0.18555</td>\n",
       "      <td>0.00103</td>\n",
       "      <td>0.09882</td>\n",
       "      <td>-0.55290</td>\n",
       "      <td>-0.07329</td>\n",
       "      <td>0.02331</td>\n",
       "      <td>6.14000</td>\n",
       "      <td>0</td>\n",
       "    </tr>\n",
       "    <tr>\n",
       "      <th>35</th>\n",
       "      <td>26.00000</td>\n",
       "      <td>-0.53539</td>\n",
       "      <td>0.86527</td>\n",
       "      <td>1.35108</td>\n",
       "      <td>0.14758</td>\n",
       "      <td>0.43368</td>\n",
       "      <td>0.08698</td>\n",
       "      <td>0.69304</td>\n",
       "      <td>0.17974</td>\n",
       "      <td>-0.28564</td>\n",
       "      <td>...</td>\n",
       "      <td>0.04953</td>\n",
       "      <td>0.20654</td>\n",
       "      <td>-0.18711</td>\n",
       "      <td>0.00075</td>\n",
       "      <td>0.09812</td>\n",
       "      <td>-0.55347</td>\n",
       "      <td>-0.07831</td>\n",
       "      <td>0.02543</td>\n",
       "      <td>1.77000</td>\n",
       "      <td>0</td>\n",
       "    </tr>\n",
       "    <tr>\n",
       "      <th>113</th>\n",
       "      <td>74.00000</td>\n",
       "      <td>1.03837</td>\n",
       "      <td>0.12749</td>\n",
       "      <td>0.18446</td>\n",
       "      <td>1.10995</td>\n",
       "      <td>0.44170</td>\n",
       "      <td>0.94528</td>\n",
       "      <td>-0.03671</td>\n",
       "      <td>0.35099</td>\n",
       "      <td>0.11895</td>\n",
       "      <td>...</td>\n",
       "      <td>0.10252</td>\n",
       "      <td>0.60509</td>\n",
       "      <td>0.02309</td>\n",
       "      <td>-0.62646</td>\n",
       "      <td>0.47912</td>\n",
       "      <td>-0.16694</td>\n",
       "      <td>0.08125</td>\n",
       "      <td>0.00119</td>\n",
       "      <td>1.18000</td>\n",
       "      <td>0</td>\n",
       "    </tr>\n",
       "    <tr>\n",
       "      <th>114</th>\n",
       "      <td>74.00000</td>\n",
       "      <td>1.03837</td>\n",
       "      <td>0.12749</td>\n",
       "      <td>0.18446</td>\n",
       "      <td>1.10995</td>\n",
       "      <td>0.44170</td>\n",
       "      <td>0.94528</td>\n",
       "      <td>-0.03671</td>\n",
       "      <td>0.35099</td>\n",
       "      <td>0.11895</td>\n",
       "      <td>...</td>\n",
       "      <td>0.10252</td>\n",
       "      <td>0.60509</td>\n",
       "      <td>0.02309</td>\n",
       "      <td>-0.62646</td>\n",
       "      <td>0.47912</td>\n",
       "      <td>-0.16694</td>\n",
       "      <td>0.08125</td>\n",
       "      <td>0.00119</td>\n",
       "      <td>1.18000</td>\n",
       "      <td>0</td>\n",
       "    </tr>\n",
       "    <tr>\n",
       "      <th>115</th>\n",
       "      <td>74.00000</td>\n",
       "      <td>1.03837</td>\n",
       "      <td>0.12749</td>\n",
       "      <td>0.18446</td>\n",
       "      <td>1.10995</td>\n",
       "      <td>0.44170</td>\n",
       "      <td>0.94528</td>\n",
       "      <td>-0.03671</td>\n",
       "      <td>0.35099</td>\n",
       "      <td>0.11895</td>\n",
       "      <td>...</td>\n",
       "      <td>0.10252</td>\n",
       "      <td>0.60509</td>\n",
       "      <td>0.02309</td>\n",
       "      <td>-0.62646</td>\n",
       "      <td>0.47912</td>\n",
       "      <td>-0.16694</td>\n",
       "      <td>0.08125</td>\n",
       "      <td>0.00119</td>\n",
       "      <td>1.18000</td>\n",
       "      <td>0</td>\n",
       "    </tr>\n",
       "    <tr>\n",
       "      <th>...</th>\n",
       "      <td>...</td>\n",
       "      <td>...</td>\n",
       "      <td>...</td>\n",
       "      <td>...</td>\n",
       "      <td>...</td>\n",
       "      <td>...</td>\n",
       "      <td>...</td>\n",
       "      <td>...</td>\n",
       "      <td>...</td>\n",
       "      <td>...</td>\n",
       "      <td>...</td>\n",
       "      <td>...</td>\n",
       "      <td>...</td>\n",
       "      <td>...</td>\n",
       "      <td>...</td>\n",
       "      <td>...</td>\n",
       "      <td>...</td>\n",
       "      <td>...</td>\n",
       "      <td>...</td>\n",
       "      <td>...</td>\n",
       "      <td>...</td>\n",
       "    </tr>\n",
       "    <tr>\n",
       "      <th>282987</th>\n",
       "      <td>171288.00000</td>\n",
       "      <td>1.91255</td>\n",
       "      <td>-0.45524</td>\n",
       "      <td>-1.75065</td>\n",
       "      <td>0.45432</td>\n",
       "      <td>2.08913</td>\n",
       "      <td>4.16002</td>\n",
       "      <td>-0.88130</td>\n",
       "      <td>1.08175</td>\n",
       "      <td>1.02293</td>\n",
       "      <td>...</td>\n",
       "      <td>-0.52407</td>\n",
       "      <td>-1.33751</td>\n",
       "      <td>0.47394</td>\n",
       "      <td>0.61668</td>\n",
       "      <td>-0.28355</td>\n",
       "      <td>-1.08484</td>\n",
       "      <td>0.07313</td>\n",
       "      <td>-0.03602</td>\n",
       "      <td>11.99000</td>\n",
       "      <td>0</td>\n",
       "    </tr>\n",
       "    <tr>\n",
       "      <th>283483</th>\n",
       "      <td>171627.00000</td>\n",
       "      <td>-1.46438</td>\n",
       "      <td>1.36812</td>\n",
       "      <td>0.81599</td>\n",
       "      <td>-0.60128</td>\n",
       "      <td>-0.68911</td>\n",
       "      <td>-0.48715</td>\n",
       "      <td>-0.30378</td>\n",
       "      <td>0.88495</td>\n",
       "      <td>0.05406</td>\n",
       "      <td>...</td>\n",
       "      <td>0.28722</td>\n",
       "      <td>0.94783</td>\n",
       "      <td>-0.21877</td>\n",
       "      <td>0.08293</td>\n",
       "      <td>0.04413</td>\n",
       "      <td>0.63927</td>\n",
       "      <td>0.21356</td>\n",
       "      <td>0.11925</td>\n",
       "      <td>6.82000</td>\n",
       "      <td>0</td>\n",
       "    </tr>\n",
       "    <tr>\n",
       "      <th>283485</th>\n",
       "      <td>171627.00000</td>\n",
       "      <td>-1.45798</td>\n",
       "      <td>1.37820</td>\n",
       "      <td>0.81152</td>\n",
       "      <td>-0.60376</td>\n",
       "      <td>-0.71188</td>\n",
       "      <td>-0.47167</td>\n",
       "      <td>-0.28253</td>\n",
       "      <td>0.88065</td>\n",
       "      <td>0.05281</td>\n",
       "      <td>...</td>\n",
       "      <td>0.28420</td>\n",
       "      <td>0.94966</td>\n",
       "      <td>-0.21695</td>\n",
       "      <td>0.08325</td>\n",
       "      <td>0.04494</td>\n",
       "      <td>0.63993</td>\n",
       "      <td>0.21943</td>\n",
       "      <td>0.11677</td>\n",
       "      <td>11.93000</td>\n",
       "      <td>0</td>\n",
       "    </tr>\n",
       "    <tr>\n",
       "      <th>284191</th>\n",
       "      <td>172233.00000</td>\n",
       "      <td>-2.66794</td>\n",
       "      <td>3.16050</td>\n",
       "      <td>-3.35598</td>\n",
       "      <td>1.00784</td>\n",
       "      <td>-0.37740</td>\n",
       "      <td>-0.10973</td>\n",
       "      <td>-0.66723</td>\n",
       "      <td>2.30970</td>\n",
       "      <td>-1.63931</td>\n",
       "      <td>...</td>\n",
       "      <td>0.39148</td>\n",
       "      <td>0.26654</td>\n",
       "      <td>-0.07985</td>\n",
       "      <td>-0.09640</td>\n",
       "      <td>0.08672</td>\n",
       "      <td>-0.45113</td>\n",
       "      <td>-1.18374</td>\n",
       "      <td>-0.22220</td>\n",
       "      <td>55.66000</td>\n",
       "      <td>0</td>\n",
       "    </tr>\n",
       "    <tr>\n",
       "      <th>284193</th>\n",
       "      <td>172233.00000</td>\n",
       "      <td>-2.69164</td>\n",
       "      <td>3.12317</td>\n",
       "      <td>-3.33941</td>\n",
       "      <td>1.01702</td>\n",
       "      <td>-0.29310</td>\n",
       "      <td>-0.16705</td>\n",
       "      <td>-0.74589</td>\n",
       "      <td>2.32562</td>\n",
       "      <td>-1.63465</td>\n",
       "      <td>...</td>\n",
       "      <td>0.40264</td>\n",
       "      <td>0.25975</td>\n",
       "      <td>-0.08661</td>\n",
       "      <td>-0.09760</td>\n",
       "      <td>0.08369</td>\n",
       "      <td>-0.45358</td>\n",
       "      <td>-1.20547</td>\n",
       "      <td>-0.21302</td>\n",
       "      <td>36.74000</td>\n",
       "      <td>0</td>\n",
       "    </tr>\n",
       "  </tbody>\n",
       "</table>\n",
       "<p>1081 rows × 31 columns</p>\n",
       "</div>"
      ],
      "text/plain": [
       "               Time       V1       V2       V3       V4       V5       V6  \\\n",
       "33         26.00000 -0.52991  0.87389  1.34725  0.14546  0.41421  0.10022   \n",
       "35         26.00000 -0.53539  0.86527  1.35108  0.14758  0.43368  0.08698   \n",
       "113        74.00000  1.03837  0.12749  0.18446  1.10995  0.44170  0.94528   \n",
       "114        74.00000  1.03837  0.12749  0.18446  1.10995  0.44170  0.94528   \n",
       "115        74.00000  1.03837  0.12749  0.18446  1.10995  0.44170  0.94528   \n",
       "...             ...      ...      ...      ...      ...      ...      ...   \n",
       "282987 171288.00000  1.91255 -0.45524 -1.75065  0.45432  2.08913  4.16002   \n",
       "283483 171627.00000 -1.46438  1.36812  0.81599 -0.60128 -0.68911 -0.48715   \n",
       "283485 171627.00000 -1.45798  1.37820  0.81152 -0.60376 -0.71188 -0.47167   \n",
       "284191 172233.00000 -2.66794  3.16050 -3.35598  1.00784 -0.37740 -0.10973   \n",
       "284193 172233.00000 -2.69164  3.12317 -3.33941  1.01702 -0.29310 -0.16705   \n",
       "\n",
       "             V7      V8       V9  ...      V21      V22      V23      V24  \\\n",
       "33      0.71121 0.17607 -0.28672  ...  0.04695  0.20810 -0.18555  0.00103   \n",
       "35      0.69304 0.17974 -0.28564  ...  0.04953  0.20654 -0.18711  0.00075   \n",
       "113    -0.03671 0.35099  0.11895  ...  0.10252  0.60509  0.02309 -0.62646   \n",
       "114    -0.03671 0.35099  0.11895  ...  0.10252  0.60509  0.02309 -0.62646   \n",
       "115    -0.03671 0.35099  0.11895  ...  0.10252  0.60509  0.02309 -0.62646   \n",
       "...         ...     ...      ...  ...      ...      ...      ...      ...   \n",
       "282987 -0.88130 1.08175  1.02293  ... -0.52407 -1.33751  0.47394  0.61668   \n",
       "283483 -0.30378 0.88495  0.05406  ...  0.28722  0.94783 -0.21877  0.08293   \n",
       "283485 -0.28253 0.88065  0.05281  ...  0.28420  0.94966 -0.21695  0.08325   \n",
       "284191 -0.66723 2.30970 -1.63931  ...  0.39148  0.26654 -0.07985 -0.09640   \n",
       "284193 -0.74589 2.32562 -1.63465  ...  0.40264  0.25975 -0.08661 -0.09760   \n",
       "\n",
       "            V25      V26      V27      V28   Amount  Class  \n",
       "33      0.09882 -0.55290 -0.07329  0.02331  6.14000      0  \n",
       "35      0.09812 -0.55347 -0.07831  0.02543  1.77000      0  \n",
       "113     0.47912 -0.16694  0.08125  0.00119  1.18000      0  \n",
       "114     0.47912 -0.16694  0.08125  0.00119  1.18000      0  \n",
       "115     0.47912 -0.16694  0.08125  0.00119  1.18000      0  \n",
       "...         ...      ...      ...      ...      ...    ...  \n",
       "282987 -0.28355 -1.08484  0.07313 -0.03602 11.99000      0  \n",
       "283483  0.04413  0.63927  0.21356  0.11925  6.82000      0  \n",
       "283485  0.04494  0.63993  0.21943  0.11677 11.93000      0  \n",
       "284191  0.08672 -0.45113 -1.18374 -0.22220 55.66000      0  \n",
       "284193  0.08369 -0.45358 -1.20547 -0.21302 36.74000      0  \n",
       "\n",
       "[1081 rows x 31 columns]"
      ]
     },
     "metadata": {},
     "execution_count": 6
    }
   ],
   "metadata": {}
  },
  {
   "cell_type": "markdown",
   "source": [
    "Terdapat 1.081 baris data yang dianggap duplikat, dan untuk data tersebut untuk selanjutnya akan dihapus"
   ],
   "metadata": {}
  },
  {
   "cell_type": "code",
   "execution_count": 7,
   "source": [
    "#Penghapusan data duplikat\r\n",
    "df_cleaned = df.drop_duplicates()\r\n",
    "df_cleaned.info()"
   ],
   "outputs": [
    {
     "output_type": "stream",
     "name": "stdout",
     "text": [
      "<class 'pandas.core.frame.DataFrame'>\n",
      "Int64Index: 283726 entries, 0 to 284806\n",
      "Data columns (total 31 columns):\n",
      " #   Column  Non-Null Count   Dtype  \n",
      "---  ------  --------------   -----  \n",
      " 0   Time    283726 non-null  float64\n",
      " 1   V1      283726 non-null  float64\n",
      " 2   V2      283726 non-null  float64\n",
      " 3   V3      283726 non-null  float64\n",
      " 4   V4      283726 non-null  float64\n",
      " 5   V5      283726 non-null  float64\n",
      " 6   V6      283726 non-null  float64\n",
      " 7   V7      283726 non-null  float64\n",
      " 8   V8      283726 non-null  float64\n",
      " 9   V9      283726 non-null  float64\n",
      " 10  V10     283726 non-null  float64\n",
      " 11  V11     283726 non-null  float64\n",
      " 12  V12     283726 non-null  float64\n",
      " 13  V13     283726 non-null  float64\n",
      " 14  V14     283726 non-null  float64\n",
      " 15  V15     283726 non-null  float64\n",
      " 16  V16     283726 non-null  float64\n",
      " 17  V17     283726 non-null  float64\n",
      " 18  V18     283726 non-null  float64\n",
      " 19  V19     283726 non-null  float64\n",
      " 20  V20     283726 non-null  float64\n",
      " 21  V21     283726 non-null  float64\n",
      " 22  V22     283726 non-null  float64\n",
      " 23  V23     283726 non-null  float64\n",
      " 24  V24     283726 non-null  float64\n",
      " 25  V25     283726 non-null  float64\n",
      " 26  V26     283726 non-null  float64\n",
      " 27  V27     283726 non-null  float64\n",
      " 28  V28     283726 non-null  float64\n",
      " 29  Amount  283726 non-null  float64\n",
      " 30  Class   283726 non-null  int64  \n",
      "dtypes: float64(30), int64(1)\n",
      "memory usage: 69.3 MB\n"
     ]
    }
   ],
   "metadata": {}
  },
  {
   "cell_type": "code",
   "execution_count": 8,
   "source": [
    "#Pengecekan data missing values\r\n",
    "df_cleaned.isnull().sum()"
   ],
   "outputs": [
    {
     "output_type": "execute_result",
     "data": {
      "text/plain": [
       "Time      0\n",
       "V1        0\n",
       "V2        0\n",
       "V3        0\n",
       "V4        0\n",
       "V5        0\n",
       "V6        0\n",
       "V7        0\n",
       "V8        0\n",
       "V9        0\n",
       "V10       0\n",
       "V11       0\n",
       "V12       0\n",
       "V13       0\n",
       "V14       0\n",
       "V15       0\n",
       "V16       0\n",
       "V17       0\n",
       "V18       0\n",
       "V19       0\n",
       "V20       0\n",
       "V21       0\n",
       "V22       0\n",
       "V23       0\n",
       "V24       0\n",
       "V25       0\n",
       "V26       0\n",
       "V27       0\n",
       "V28       0\n",
       "Amount    0\n",
       "Class     0\n",
       "dtype: int64"
      ]
     },
     "metadata": {},
     "execution_count": 8
    }
   ],
   "metadata": {}
  },
  {
   "cell_type": "markdown",
   "source": [
    "Tidak ditemukan adanya missing values pada dataset"
   ],
   "metadata": {}
  },
  {
   "cell_type": "markdown",
   "source": [
    "## v. Data Exploration"
   ],
   "metadata": {}
  },
  {
   "cell_type": "code",
   "execution_count": 9,
   "source": [
    "df_cleaned.info()"
   ],
   "outputs": [
    {
     "output_type": "stream",
     "name": "stdout",
     "text": [
      "<class 'pandas.core.frame.DataFrame'>\n",
      "Int64Index: 283726 entries, 0 to 284806\n",
      "Data columns (total 31 columns):\n",
      " #   Column  Non-Null Count   Dtype  \n",
      "---  ------  --------------   -----  \n",
      " 0   Time    283726 non-null  float64\n",
      " 1   V1      283726 non-null  float64\n",
      " 2   V2      283726 non-null  float64\n",
      " 3   V3      283726 non-null  float64\n",
      " 4   V4      283726 non-null  float64\n",
      " 5   V5      283726 non-null  float64\n",
      " 6   V6      283726 non-null  float64\n",
      " 7   V7      283726 non-null  float64\n",
      " 8   V8      283726 non-null  float64\n",
      " 9   V9      283726 non-null  float64\n",
      " 10  V10     283726 non-null  float64\n",
      " 11  V11     283726 non-null  float64\n",
      " 12  V12     283726 non-null  float64\n",
      " 13  V13     283726 non-null  float64\n",
      " 14  V14     283726 non-null  float64\n",
      " 15  V15     283726 non-null  float64\n",
      " 16  V16     283726 non-null  float64\n",
      " 17  V17     283726 non-null  float64\n",
      " 18  V18     283726 non-null  float64\n",
      " 19  V19     283726 non-null  float64\n",
      " 20  V20     283726 non-null  float64\n",
      " 21  V21     283726 non-null  float64\n",
      " 22  V22     283726 non-null  float64\n",
      " 23  V23     283726 non-null  float64\n",
      " 24  V24     283726 non-null  float64\n",
      " 25  V25     283726 non-null  float64\n",
      " 26  V26     283726 non-null  float64\n",
      " 27  V27     283726 non-null  float64\n",
      " 28  V28     283726 non-null  float64\n",
      " 29  Amount  283726 non-null  float64\n",
      " 30  Class   283726 non-null  int64  \n",
      "dtypes: float64(30), int64(1)\n",
      "memory usage: 69.3 MB\n"
     ]
    }
   ],
   "metadata": {}
  },
  {
   "cell_type": "code",
   "execution_count": 10,
   "source": [
    "df_cleaned.head()"
   ],
   "outputs": [
    {
     "output_type": "execute_result",
     "data": {
      "text/html": [
       "<div>\n",
       "<style scoped>\n",
       "    .dataframe tbody tr th:only-of-type {\n",
       "        vertical-align: middle;\n",
       "    }\n",
       "\n",
       "    .dataframe tbody tr th {\n",
       "        vertical-align: top;\n",
       "    }\n",
       "\n",
       "    .dataframe thead th {\n",
       "        text-align: right;\n",
       "    }\n",
       "</style>\n",
       "<table border=\"1\" class=\"dataframe\">\n",
       "  <thead>\n",
       "    <tr style=\"text-align: right;\">\n",
       "      <th></th>\n",
       "      <th>Time</th>\n",
       "      <th>V1</th>\n",
       "      <th>V2</th>\n",
       "      <th>V3</th>\n",
       "      <th>V4</th>\n",
       "      <th>V5</th>\n",
       "      <th>V6</th>\n",
       "      <th>V7</th>\n",
       "      <th>V8</th>\n",
       "      <th>V9</th>\n",
       "      <th>...</th>\n",
       "      <th>V21</th>\n",
       "      <th>V22</th>\n",
       "      <th>V23</th>\n",
       "      <th>V24</th>\n",
       "      <th>V25</th>\n",
       "      <th>V26</th>\n",
       "      <th>V27</th>\n",
       "      <th>V28</th>\n",
       "      <th>Amount</th>\n",
       "      <th>Class</th>\n",
       "    </tr>\n",
       "  </thead>\n",
       "  <tbody>\n",
       "    <tr>\n",
       "      <th>0</th>\n",
       "      <td>0.00000</td>\n",
       "      <td>-1.35981</td>\n",
       "      <td>-0.07278</td>\n",
       "      <td>2.53635</td>\n",
       "      <td>1.37816</td>\n",
       "      <td>-0.33832</td>\n",
       "      <td>0.46239</td>\n",
       "      <td>0.23960</td>\n",
       "      <td>0.09870</td>\n",
       "      <td>0.36379</td>\n",
       "      <td>...</td>\n",
       "      <td>-0.01831</td>\n",
       "      <td>0.27784</td>\n",
       "      <td>-0.11047</td>\n",
       "      <td>0.06693</td>\n",
       "      <td>0.12854</td>\n",
       "      <td>-0.18911</td>\n",
       "      <td>0.13356</td>\n",
       "      <td>-0.02105</td>\n",
       "      <td>149.62000</td>\n",
       "      <td>0</td>\n",
       "    </tr>\n",
       "    <tr>\n",
       "      <th>1</th>\n",
       "      <td>0.00000</td>\n",
       "      <td>1.19186</td>\n",
       "      <td>0.26615</td>\n",
       "      <td>0.16648</td>\n",
       "      <td>0.44815</td>\n",
       "      <td>0.06002</td>\n",
       "      <td>-0.08236</td>\n",
       "      <td>-0.07880</td>\n",
       "      <td>0.08510</td>\n",
       "      <td>-0.25543</td>\n",
       "      <td>...</td>\n",
       "      <td>-0.22578</td>\n",
       "      <td>-0.63867</td>\n",
       "      <td>0.10129</td>\n",
       "      <td>-0.33985</td>\n",
       "      <td>0.16717</td>\n",
       "      <td>0.12589</td>\n",
       "      <td>-0.00898</td>\n",
       "      <td>0.01472</td>\n",
       "      <td>2.69000</td>\n",
       "      <td>0</td>\n",
       "    </tr>\n",
       "    <tr>\n",
       "      <th>2</th>\n",
       "      <td>1.00000</td>\n",
       "      <td>-1.35835</td>\n",
       "      <td>-1.34016</td>\n",
       "      <td>1.77321</td>\n",
       "      <td>0.37978</td>\n",
       "      <td>-0.50320</td>\n",
       "      <td>1.80050</td>\n",
       "      <td>0.79146</td>\n",
       "      <td>0.24768</td>\n",
       "      <td>-1.51465</td>\n",
       "      <td>...</td>\n",
       "      <td>0.24800</td>\n",
       "      <td>0.77168</td>\n",
       "      <td>0.90941</td>\n",
       "      <td>-0.68928</td>\n",
       "      <td>-0.32764</td>\n",
       "      <td>-0.13910</td>\n",
       "      <td>-0.05535</td>\n",
       "      <td>-0.05975</td>\n",
       "      <td>378.66000</td>\n",
       "      <td>0</td>\n",
       "    </tr>\n",
       "    <tr>\n",
       "      <th>3</th>\n",
       "      <td>1.00000</td>\n",
       "      <td>-0.96627</td>\n",
       "      <td>-0.18523</td>\n",
       "      <td>1.79299</td>\n",
       "      <td>-0.86329</td>\n",
       "      <td>-0.01031</td>\n",
       "      <td>1.24720</td>\n",
       "      <td>0.23761</td>\n",
       "      <td>0.37744</td>\n",
       "      <td>-1.38702</td>\n",
       "      <td>...</td>\n",
       "      <td>-0.10830</td>\n",
       "      <td>0.00527</td>\n",
       "      <td>-0.19032</td>\n",
       "      <td>-1.17558</td>\n",
       "      <td>0.64738</td>\n",
       "      <td>-0.22193</td>\n",
       "      <td>0.06272</td>\n",
       "      <td>0.06146</td>\n",
       "      <td>123.50000</td>\n",
       "      <td>0</td>\n",
       "    </tr>\n",
       "    <tr>\n",
       "      <th>4</th>\n",
       "      <td>2.00000</td>\n",
       "      <td>-1.15823</td>\n",
       "      <td>0.87774</td>\n",
       "      <td>1.54872</td>\n",
       "      <td>0.40303</td>\n",
       "      <td>-0.40719</td>\n",
       "      <td>0.09592</td>\n",
       "      <td>0.59294</td>\n",
       "      <td>-0.27053</td>\n",
       "      <td>0.81774</td>\n",
       "      <td>...</td>\n",
       "      <td>-0.00943</td>\n",
       "      <td>0.79828</td>\n",
       "      <td>-0.13746</td>\n",
       "      <td>0.14127</td>\n",
       "      <td>-0.20601</td>\n",
       "      <td>0.50229</td>\n",
       "      <td>0.21942</td>\n",
       "      <td>0.21515</td>\n",
       "      <td>69.99000</td>\n",
       "      <td>0</td>\n",
       "    </tr>\n",
       "  </tbody>\n",
       "</table>\n",
       "<p>5 rows × 31 columns</p>\n",
       "</div>"
      ],
      "text/plain": [
       "     Time       V1       V2      V3       V4       V5       V6       V7  \\\n",
       "0 0.00000 -1.35981 -0.07278 2.53635  1.37816 -0.33832  0.46239  0.23960   \n",
       "1 0.00000  1.19186  0.26615 0.16648  0.44815  0.06002 -0.08236 -0.07880   \n",
       "2 1.00000 -1.35835 -1.34016 1.77321  0.37978 -0.50320  1.80050  0.79146   \n",
       "3 1.00000 -0.96627 -0.18523 1.79299 -0.86329 -0.01031  1.24720  0.23761   \n",
       "4 2.00000 -1.15823  0.87774 1.54872  0.40303 -0.40719  0.09592  0.59294   \n",
       "\n",
       "        V8       V9  ...      V21      V22      V23      V24      V25  \\\n",
       "0  0.09870  0.36379  ... -0.01831  0.27784 -0.11047  0.06693  0.12854   \n",
       "1  0.08510 -0.25543  ... -0.22578 -0.63867  0.10129 -0.33985  0.16717   \n",
       "2  0.24768 -1.51465  ...  0.24800  0.77168  0.90941 -0.68928 -0.32764   \n",
       "3  0.37744 -1.38702  ... -0.10830  0.00527 -0.19032 -1.17558  0.64738   \n",
       "4 -0.27053  0.81774  ... -0.00943  0.79828 -0.13746  0.14127 -0.20601   \n",
       "\n",
       "       V26      V27      V28    Amount  Class  \n",
       "0 -0.18911  0.13356 -0.02105 149.62000      0  \n",
       "1  0.12589 -0.00898  0.01472   2.69000      0  \n",
       "2 -0.13910 -0.05535 -0.05975 378.66000      0  \n",
       "3 -0.22193  0.06272  0.06146 123.50000      0  \n",
       "4  0.50229  0.21942  0.21515  69.99000      0  \n",
       "\n",
       "[5 rows x 31 columns]"
      ]
     },
     "metadata": {},
     "execution_count": 10
    }
   ],
   "metadata": {}
  },
  {
   "cell_type": "code",
   "execution_count": 11,
   "source": [
    "df_cleaned.hist(bins=50, figsize=(20,15))\r\n",
    "plt.show()"
   ],
   "outputs": [
    {
     "output_type": "display_data",
     "data": {
      "image/png": "[encoded data removed]",
      "text/plain": [
       "<Figure size 1440x1080 with 36 Axes>"
      ]
     },
     "metadata": {
      "needs_background": "light"
     }
    }
   ],
   "metadata": {}
  },
  {
   "cell_type": "code",
   "execution_count": 12,
   "source": [
    "print (df_cleaned['Class'].value_counts())\r\n",
    "print (df_cleaned['Class'].value_counts()*100/len(df_cleaned))"
   ],
   "outputs": [
    {
     "output_type": "stream",
     "name": "stdout",
     "text": [
      "0    283253\n",
      "1       473\n",
      "Name: Class, dtype: int64\n",
      "0   99.83329\n",
      "1    0.16671\n",
      "Name: Class, dtype: float64\n"
     ]
    }
   ],
   "metadata": {}
  },
  {
   "cell_type": "code",
   "execution_count": 13,
   "source": [
    "df_cleaned['Class'].hist()"
   ],
   "outputs": [
    {
     "output_type": "execute_result",
     "data": {
      "text/plain": [
       "<AxesSubplot:>"
      ]
     },
     "metadata": {},
     "execution_count": 13
    },
    {
     "output_type": "display_data",
     "data": {
      "image/png": "[encoded data removed]",
      "text/plain": [
       "<Figure size 432x288 with 1 Axes>"
      ]
     },
     "metadata": {
      "needs_background": "light"
     }
    }
   ],
   "metadata": {}
  },
  {
   "cell_type": "markdown",
   "source": [
    "Dari explorasi terhadap fitur 'Class', untuk fitur tersebut sangat imbalance. </br>\r\n",
    "Dimana hanya terdapat 0.16% data fraud dari total data secara keseluruhan."
   ],
   "metadata": {}
  },
  {
   "cell_type": "code",
   "execution_count": 14,
   "source": [
    "df_cleaned['Amount'].describe()"
   ],
   "outputs": [
    {
     "output_type": "execute_result",
     "data": {
      "text/plain": [
       "count   283726.00000\n",
       "mean        88.47269\n",
       "std        250.39944\n",
       "min          0.00000\n",
       "25%          5.60000\n",
       "50%         22.00000\n",
       "75%         77.51000\n",
       "max      25691.16000\n",
       "Name: Amount, dtype: float64"
      ]
     },
     "metadata": {},
     "execution_count": 14
    }
   ],
   "metadata": {}
  },
  {
   "cell_type": "code",
   "execution_count": 15,
   "source": [
    "df_cleaned['Amount'].hist()"
   ],
   "outputs": [
    {
     "output_type": "execute_result",
     "data": {
      "text/plain": [
       "<AxesSubplot:>"
      ]
     },
     "metadata": {},
     "execution_count": 15
    },
    {
     "output_type": "display_data",
     "data": {
      "image/png": "[encoded data removed]",
      "text/plain": [
       "<Figure size 432x288 with 1 Axes>"
      ]
     },
     "metadata": {
      "needs_background": "light"
     }
    }
   ],
   "metadata": {}
  },
  {
   "cell_type": "code",
   "execution_count": 16,
   "source": [
    "sns.boxplot(df_cleaned['Amount'])"
   ],
   "outputs": [
    {
     "output_type": "stream",
     "name": "stderr",
     "text": [
      "C:\\Users\\Wawan\\anaconda3\\lib\\site-packages\\seaborn\\_decorators.py:36: FutureWarning: Pass the following variable as a keyword arg: x. From version 0.12, the only valid positional argument will be `data`, and passing other arguments without an explicit keyword will result in an error or misinterpretation.\n",
      "  warnings.warn(\n"
     ]
    },
    {
     "output_type": "execute_result",
     "data": {
      "text/plain": [
       "<AxesSubplot:xlabel='Amount'>"
      ]
     },
     "metadata": {},
     "execution_count": 16
    },
    {
     "output_type": "display_data",
     "data": {
      "image/png": "[encoded data removed]",
      "text/plain": [
       "<Figure size 432x288 with 1 Axes>"
      ]
     },
     "metadata": {
      "needs_background": "light"
     }
    }
   ],
   "metadata": {}
  },
  {
   "cell_type": "markdown",
   "source": [
    "Dari explorasi terhadap fitur 'Amount', untuk fitur tersebut juga sangat imbalance. </br>\r\n",
    "Dimana hanya terdapat sebagian besar data memiliki nilai antara 0-22."
   ],
   "metadata": {}
  },
  {
   "cell_type": "code",
   "execution_count": 17,
   "source": [
    "df_cleaned['Time'].describe()"
   ],
   "outputs": [
    {
     "output_type": "execute_result",
     "data": {
      "text/plain": [
       "count   283726.00000\n",
       "mean     94811.07760\n",
       "std      47481.04789\n",
       "min          0.00000\n",
       "25%      54204.75000\n",
       "50%      84692.50000\n",
       "75%     139298.00000\n",
       "max     172792.00000\n",
       "Name: Time, dtype: float64"
      ]
     },
     "metadata": {},
     "execution_count": 17
    }
   ],
   "metadata": {}
  },
  {
   "cell_type": "code",
   "execution_count": 18,
   "source": [
    "df_cleaned['Time'].hist()"
   ],
   "outputs": [
    {
     "output_type": "execute_result",
     "data": {
      "text/plain": [
       "<AxesSubplot:>"
      ]
     },
     "metadata": {},
     "execution_count": 18
    },
    {
     "output_type": "display_data",
     "data": {
      "image/png": "[encoded data removed]",
      "text/plain": [
       "<Figure size 432x288 with 1 Axes>"
      ]
     },
     "metadata": {
      "needs_background": "light"
     }
    }
   ],
   "metadata": {}
  },
  {
   "cell_type": "code",
   "execution_count": 19,
   "source": [
    "sns.boxplot(df_cleaned['Time'])"
   ],
   "outputs": [
    {
     "output_type": "stream",
     "name": "stderr",
     "text": [
      "C:\\Users\\Wawan\\anaconda3\\lib\\site-packages\\seaborn\\_decorators.py:36: FutureWarning: Pass the following variable as a keyword arg: x. From version 0.12, the only valid positional argument will be `data`, and passing other arguments without an explicit keyword will result in an error or misinterpretation.\n",
      "  warnings.warn(\n"
     ]
    },
    {
     "output_type": "execute_result",
     "data": {
      "text/plain": [
       "<AxesSubplot:xlabel='Time'>"
      ]
     },
     "metadata": {},
     "execution_count": 19
    },
    {
     "output_type": "display_data",
     "data": {
      "image/png": "[encoded data removed]",
      "text/plain": [
       "<Figure size 432x288 with 1 Axes>"
      ]
     },
     "metadata": {
      "needs_background": "light"
     }
    }
   ],
   "metadata": {}
  },
  {
   "cell_type": "markdown",
   "source": [
    "## vi. Data Preprocessing\r\n",
    "Proses preprosesing data yang kami lakukan adalah dengan melakukan :\r\n",
    "1. Resampling Data\r\n",
    "2. Definisi X dan Y\r\n",
    "3. Train Test Split\r\n",
    "4. Scaling data"
   ],
   "metadata": {}
  },
  {
   "cell_type": "code",
   "execution_count": 20,
   "source": [
    "print (df_cleaned['Class'].value_counts())\r\n",
    "print (df_cleaned['Class'].value_counts()*100/len(df_cleaned))"
   ],
   "outputs": [
    {
     "output_type": "stream",
     "name": "stdout",
     "text": [
      "0    283253\n",
      "1       473\n",
      "Name: Class, dtype: int64\n",
      "0   99.83329\n",
      "1    0.16671\n",
      "Name: Class, dtype: float64\n"
     ]
    }
   ],
   "metadata": {}
  },
  {
   "cell_type": "markdown",
   "source": [
    "Dikarenakan proporsi data non fraud dan fraud sangat tidak balance, maka kami melakukan resampling data. </br>\r\n",
    "Resampling data kami lakukan dengan memilih proporsi data yang sama antara data fraud dan data non fraud </br>\r\n",
    "Dikarenakan untuk data fraud terdapat 473 data, maka untuk data non fraud kami ambil data sebanyak 473 data juga."
   ],
   "metadata": {}
  },
  {
   "cell_type": "code",
   "execution_count": 21,
   "source": [
    "dffraud = df_cleaned[df_cleaned['Class']==1]\r\n",
    "dfnofraud=df_cleaned[df_cleaned['Class']==0][:473]"
   ],
   "outputs": [],
   "metadata": {}
  },
  {
   "cell_type": "code",
   "execution_count": 22,
   "source": [
    "dfnofraud.info()"
   ],
   "outputs": [
    {
     "output_type": "stream",
     "name": "stdout",
     "text": [
      "<class 'pandas.core.frame.DataFrame'>\n",
      "Int64Index: 473 entries, 0 to 479\n",
      "Data columns (total 31 columns):\n",
      " #   Column  Non-Null Count  Dtype  \n",
      "---  ------  --------------  -----  \n",
      " 0   Time    473 non-null    float64\n",
      " 1   V1      473 non-null    float64\n",
      " 2   V2      473 non-null    float64\n",
      " 3   V3      473 non-null    float64\n",
      " 4   V4      473 non-null    float64\n",
      " 5   V5      473 non-null    float64\n",
      " 6   V6      473 non-null    float64\n",
      " 7   V7      473 non-null    float64\n",
      " 8   V8      473 non-null    float64\n",
      " 9   V9      473 non-null    float64\n",
      " 10  V10     473 non-null    float64\n",
      " 11  V11     473 non-null    float64\n",
      " 12  V12     473 non-null    float64\n",
      " 13  V13     473 non-null    float64\n",
      " 14  V14     473 non-null    float64\n",
      " 15  V15     473 non-null    float64\n",
      " 16  V16     473 non-null    float64\n",
      " 17  V17     473 non-null    float64\n",
      " 18  V18     473 non-null    float64\n",
      " 19  V19     473 non-null    float64\n",
      " 20  V20     473 non-null    float64\n",
      " 21  V21     473 non-null    float64\n",
      " 22  V22     473 non-null    float64\n",
      " 23  V23     473 non-null    float64\n",
      " 24  V24     473 non-null    float64\n",
      " 25  V25     473 non-null    float64\n",
      " 26  V26     473 non-null    float64\n",
      " 27  V27     473 non-null    float64\n",
      " 28  V28     473 non-null    float64\n",
      " 29  Amount  473 non-null    float64\n",
      " 30  Class   473 non-null    int64  \n",
      "dtypes: float64(30), int64(1)\n",
      "memory usage: 118.2 KB\n"
     ]
    }
   ],
   "metadata": {}
  },
  {
   "cell_type": "code",
   "execution_count": 23,
   "source": [
    "df_resample = pd.concat([dffraud,dfnofraud])\r\n",
    "df_resample.info()"
   ],
   "outputs": [
    {
     "output_type": "stream",
     "name": "stdout",
     "text": [
      "<class 'pandas.core.frame.DataFrame'>\n",
      "Int64Index: 946 entries, 541 to 479\n",
      "Data columns (total 31 columns):\n",
      " #   Column  Non-Null Count  Dtype  \n",
      "---  ------  --------------  -----  \n",
      " 0   Time    946 non-null    float64\n",
      " 1   V1      946 non-null    float64\n",
      " 2   V2      946 non-null    float64\n",
      " 3   V3      946 non-null    float64\n",
      " 4   V4      946 non-null    float64\n",
      " 5   V5      946 non-null    float64\n",
      " 6   V6      946 non-null    float64\n",
      " 7   V7      946 non-null    float64\n",
      " 8   V8      946 non-null    float64\n",
      " 9   V9      946 non-null    float64\n",
      " 10  V10     946 non-null    float64\n",
      " 11  V11     946 non-null    float64\n",
      " 12  V12     946 non-null    float64\n",
      " 13  V13     946 non-null    float64\n",
      " 14  V14     946 non-null    float64\n",
      " 15  V15     946 non-null    float64\n",
      " 16  V16     946 non-null    float64\n",
      " 17  V17     946 non-null    float64\n",
      " 18  V18     946 non-null    float64\n",
      " 19  V19     946 non-null    float64\n",
      " 20  V20     946 non-null    float64\n",
      " 21  V21     946 non-null    float64\n",
      " 22  V22     946 non-null    float64\n",
      " 23  V23     946 non-null    float64\n",
      " 24  V24     946 non-null    float64\n",
      " 25  V25     946 non-null    float64\n",
      " 26  V26     946 non-null    float64\n",
      " 27  V27     946 non-null    float64\n",
      " 28  V28     946 non-null    float64\n",
      " 29  Amount  946 non-null    float64\n",
      " 30  Class   946 non-null    int64  \n",
      "dtypes: float64(30), int64(1)\n",
      "memory usage: 236.5 KB\n"
     ]
    }
   ],
   "metadata": {}
  },
  {
   "cell_type": "code",
   "execution_count": 24,
   "source": [
    "#Proses definisi X dan Y\r\n",
    "y = df_resample['Class'].values\r\n",
    "X = df_resample.drop(columns=['Class'],axis=1).values"
   ],
   "outputs": [],
   "metadata": {}
  },
  {
   "cell_type": "code",
   "execution_count": 25,
   "source": [
    "#Train/Test Split\r\n",
    "X_train, X_test, y_train, y_test = train_test_split(X, y, test_size=0.20, random_state=42)"
   ],
   "outputs": [],
   "metadata": {}
  },
  {
   "cell_type": "code",
   "execution_count": 26,
   "source": [
    "#Proses Scaling dari data\r\n",
    "scaler = StandardScaler()\r\n",
    "\r\n",
    "X_train = scaler.fit_transform(X_train)\r\n",
    "\r\n",
    "X_test = scaler.transform(X_test)"
   ],
   "outputs": [],
   "metadata": {}
  },
  {
   "cell_type": "markdown",
   "source": [
    "## vii. Pendefinisian Model\r\n",
    "Pada dataset yang pada digunakan saat ini, terdapat label yang menandakan apakah data tersebut fraud ataukah tidak. </br>\r\n",
    "Sehingga untuk anomaly detection dapat menggunakan model supervised maupun unsupervised. </br>\r\n",
    "Kami akan menggunakan 2 pendekatan supervised dan unsupervised:\r\n",
    "1. Untuk model supervised, kami akan melakukan model selection dengan menggunakan KFold untuk model Decision Tree, Random Forest, K Nearest Neighbour, dan Naive Bayes\r\n",
    "2. Untuk model unsupervised, kami akan melakukan isolation forest, one class svm dan Local Outlier Factor"
   ],
   "metadata": {}
  },
  {
   "cell_type": "markdown",
   "source": [
    "### Supervised Learning - Model Selection"
   ],
   "metadata": {}
  },
  {
   "cell_type": "code",
   "execution_count": 27,
   "source": [
    "# prepare models\r\n",
    "models = []\r\n",
    "models.append(('LR', LogisticRegression(max_iter=1000)))\r\n",
    "models.append(('SVM', SVC()))\r\n",
    "models.append(('DT', DecisionTreeClassifier()))\r\n",
    "models.append(('RF', RandomForestClassifier()))\r\n",
    "models.append(('KNN', KNeighborsClassifier()))\r\n",
    "models.append(('NB', GaussianNB()))"
   ],
   "outputs": [],
   "metadata": {}
  },
  {
   "cell_type": "code",
   "execution_count": 28,
   "source": [
    "# evaluate each model in turn\r\n",
    "seed = 42\r\n",
    "results = []\r\n",
    "names = []\r\n",
    "scoring = 'recall'\r\n",
    "for name, model in models:\r\n",
    "\tkfold = model_selection.KFold(n_splits=10, shuffle=True, random_state=seed)\r\n",
    "\tcv_results = model_selection.cross_val_score(model, X_train, y_train, cv=kfold, scoring=scoring)\r\n",
    "\tresults.append(cv_results)\r\n",
    "\tnames.append(name)\r\n",
    "\tmsg = \"%s: %f (%f)\" % (name, cv_results.mean(), cv_results.std())\r\n",
    "\tprint(msg)"
   ],
   "outputs": [
    {
     "output_type": "stream",
     "name": "stdout",
     "text": [
      "LR: 0.981230 (0.027748)\n",
      "SVM: 0.981908 (0.017223)\n",
      "DT: 0.997059 (0.008824)\n",
      "RF: 0.997222 (0.008333)\n",
      "KNN: 0.914381 (0.041234)\n",
      "NB: 0.997222 (0.008333)\n"
     ]
    }
   ],
   "metadata": {}
  },
  {
   "cell_type": "markdown",
   "source": [
    "## Supervised Learning - Random Forest"
   ],
   "metadata": {}
  },
  {
   "cell_type": "code",
   "execution_count": 29,
   "source": [
    "# Definisi model random forest\r\n",
    "randomforest = RandomForestClassifier()"
   ],
   "outputs": [],
   "metadata": {}
  },
  {
   "cell_type": "code",
   "execution_count": 30,
   "source": [
    "randomforest.fit(X_train,y_train)"
   ],
   "outputs": [
    {
     "output_type": "execute_result",
     "data": {
      "text/plain": [
       "RandomForestClassifier()"
      ]
     },
     "metadata": {},
     "execution_count": 30
    }
   ],
   "metadata": {}
  },
  {
   "cell_type": "code",
   "execution_count": 31,
   "source": [
    "#Proses prediksi nilai Y berdasarkan variabel X_test\r\n",
    "y_predrf = randomforest.predict(X_test)\r\n",
    "\r\n",
    "y_predrf"
   ],
   "outputs": [
    {
     "output_type": "execute_result",
     "data": {
      "text/plain": [
       "array([1, 1, 0, 1, 1, 0, 0, 1, 1, 0, 1, 1, 0, 1, 0, 1, 1, 0, 0, 0, 0, 0,\n",
       "       0, 0, 1, 1, 0, 0, 1, 1, 0, 0, 0, 1, 1, 0, 1, 1, 1, 0, 0, 1, 0, 0,\n",
       "       0, 1, 1, 0, 1, 0, 1, 0, 1, 0, 1, 1, 0, 0, 0, 0, 0, 0, 1, 1, 0, 1,\n",
       "       1, 1, 1, 1, 1, 1, 0, 0, 1, 1, 1, 0, 0, 1, 0, 0, 1, 1, 0, 0, 1, 1,\n",
       "       1, 1, 1, 0, 1, 0, 0, 0, 0, 0, 0, 0, 0, 0, 0, 0, 0, 0, 0, 1, 1, 0,\n",
       "       0, 1, 0, 1, 0, 0, 0, 1, 1, 0, 1, 1, 0, 0, 0, 1, 1, 1, 0, 0, 0, 1,\n",
       "       0, 1, 1, 1, 0, 0, 1, 0, 0, 1, 1, 0, 1, 1, 0, 0, 0, 0, 1, 0, 0, 1,\n",
       "       1, 0, 1, 1, 0, 0, 1, 1, 1, 1, 0, 0, 0, 1, 1, 0, 0, 0, 1, 0, 1, 0,\n",
       "       0, 0, 1, 0, 1, 0, 1, 1, 0, 0, 0, 0, 1, 1], dtype=int64)"
      ]
     },
     "metadata": {},
     "execution_count": 31
    }
   ],
   "metadata": {}
  },
  {
   "cell_type": "code",
   "execution_count": 32,
   "source": [
    "#Perbandingan hasil nilai y aktual dengan nilai y hasil prediksi model logistic regression\r\n",
    "predictedrf = pd.DataFrame({'Actual': y_test,'Predicted': y_predrf})\r\n",
    "predictedrf.value_counts()"
   ],
   "outputs": [
    {
     "output_type": "execute_result",
     "data": {
      "text/plain": [
       "Actual  Predicted\n",
       "0       0            102\n",
       "1       1             88\n",
       "dtype: int64"
      ]
     },
     "metadata": {},
     "execution_count": 32
    }
   ],
   "metadata": {}
  },
  {
   "cell_type": "code",
   "execution_count": 33,
   "source": [
    "#Pembuatan confusion matrix\r\n",
    "cmrf = confusion_matrix(y_test, y_predrf)\r\n",
    "print('Confusion matrix\\n\\n', cmrf)"
   ],
   "outputs": [
    {
     "output_type": "stream",
     "name": "stdout",
     "text": [
      "Confusion matrix\n",
      "\n",
      " [[102   0]\n",
      " [  0  88]]\n"
     ]
    }
   ],
   "metadata": {}
  },
  {
   "cell_type": "code",
   "execution_count": 34,
   "source": [
    "#Perhitungan kategori dari Confusion Matrix\r\n",
    "tprf = cmrf[1,1]\r\n",
    "tnrf = cmrf[0,0]\r\n",
    "fprf = cmrf[0,1]\r\n",
    "fnrf = cmrf[1,0]\r\n",
    "\r\n",
    "print('True Positives(TP) = ', tprf)\r\n",
    "print('True Negatives(TN) = ', tnrf)\r\n",
    "print('False Positives(FP) = ', fprf)\r\n",
    "print('False Negatives(FN) = ', fnrf)"
   ],
   "outputs": [
    {
     "output_type": "stream",
     "name": "stdout",
     "text": [
      "True Positives(TP) =  88\n",
      "True Negatives(TN) =  102\n",
      "False Positives(FP) =  0\n",
      "False Negatives(FN) =  0\n"
     ]
    }
   ],
   "metadata": {}
  },
  {
   "cell_type": "code",
   "execution_count": 35,
   "source": [
    "#Perhitungan evaluation metric\r\n",
    "accurf = (tprf+tnrf)/(tprf+tnrf+fprf+fnrf)\r\n",
    "misclassrf = (fnrf+fprf)/(tprf+tnrf+fprf+fnrf)\r\n",
    "precisrf = tprf/(tprf+fprf)\r\n",
    "sensirf = tprf/(tprf+fnrf)\r\n",
    "specirf = tnrf/(tnrf+fprf) \r\n",
    "f1rf = 2 * (precisrf*sensirf) / (precisrf+sensirf)\r\n",
    "\r\n",
    "\r\n",
    "\r\n",
    "print('Overall Accuracy of Random Forest is ',accurf)\r\n",
    "print('Misclassification of Random Forest is ',misclassrf)\r\n",
    "print('Precision of Random Forest is ',precisrf)\r\n",
    "print('Sensitivity of Random Forest is ',sensirf)\r\n",
    "print('Specificity of Random Forest is ',specirf)\r\n",
    "print('F-1 Score of Random Forest is ',f1rf)"
   ],
   "outputs": [
    {
     "output_type": "stream",
     "name": "stdout",
     "text": [
      "Overall Accuracy of Random Forest is  1.0\n",
      "Misclassification of Random Forest is  0.0\n",
      "Precision of Random Forest is  1.0\n",
      "Sensitivity of Random Forest is  1.0\n",
      "Specificity of Random Forest is  1.0\n",
      "F-1 Score of Random Forest is  1.0\n"
     ]
    }
   ],
   "metadata": {}
  },
  {
   "cell_type": "code",
   "execution_count": 37,
   "source": [
    "#Membuat Classification Report\r\n",
    "print(classification_report(y_test, y_predrf))"
   ],
   "outputs": [
    {
     "output_type": "stream",
     "name": "stdout",
     "text": [
      "              precision    recall  f1-score   support\n",
      "\n",
      "           0       1.00      1.00      1.00       102\n",
      "           1       1.00      1.00      1.00        88\n",
      "\n",
      "    accuracy                           1.00       190\n",
      "   macro avg       1.00      1.00      1.00       190\n",
      "weighted avg       1.00      1.00      1.00       190\n",
      "\n"
     ]
    }
   ],
   "metadata": {}
  },
  {
   "cell_type": "markdown",
   "source": [
    "## Supervised Model - Gaussian Naiye Bayes"
   ],
   "metadata": {}
  },
  {
   "cell_type": "code",
   "execution_count": 38,
   "source": [
    "#Definisi Model Gaussian Naive Bayes\r\n",
    "gnb = GaussianNB()"
   ],
   "outputs": [],
   "metadata": {}
  },
  {
   "cell_type": "code",
   "execution_count": 39,
   "source": [
    "#Fitting Data\r\n",
    "gnb.fit(X_train,y_train)"
   ],
   "outputs": [
    {
     "output_type": "execute_result",
     "data": {
      "text/plain": [
       "GaussianNB()"
      ]
     },
     "metadata": {},
     "execution_count": 39
    }
   ],
   "metadata": {}
  },
  {
   "cell_type": "code",
   "execution_count": 40,
   "source": [
    "#Proses prediksi nilai Y berdasarkan variabel X_test\r\n",
    "y_pred_gnb = gnb.predict(X_test)\r\n",
    "\r\n",
    "y_pred_gnb"
   ],
   "outputs": [
    {
     "output_type": "execute_result",
     "data": {
      "text/plain": [
       "array([1, 1, 0, 1, 1, 0, 0, 1, 1, 0, 1, 1, 0, 1, 0, 1, 1, 0, 0, 0, 0, 0,\n",
       "       0, 0, 1, 1, 0, 0, 1, 1, 0, 0, 0, 1, 1, 0, 1, 1, 1, 0, 0, 1, 1, 0,\n",
       "       0, 1, 1, 0, 1, 0, 1, 0, 1, 0, 1, 1, 0, 0, 0, 0, 0, 0, 1, 1, 0, 1,\n",
       "       1, 1, 1, 1, 1, 1, 0, 0, 1, 1, 1, 0, 0, 1, 0, 0, 1, 1, 0, 0, 1, 1,\n",
       "       1, 1, 1, 0, 1, 0, 0, 0, 0, 0, 0, 0, 0, 0, 0, 0, 0, 0, 0, 1, 1, 0,\n",
       "       0, 1, 0, 1, 0, 0, 0, 1, 1, 0, 1, 1, 0, 0, 0, 1, 1, 1, 0, 0, 0, 1,\n",
       "       0, 1, 1, 1, 0, 0, 1, 0, 0, 1, 1, 0, 1, 1, 0, 0, 0, 0, 1, 0, 0, 1,\n",
       "       1, 0, 1, 1, 0, 0, 1, 1, 1, 1, 0, 0, 0, 1, 1, 0, 0, 0, 1, 0, 1, 0,\n",
       "       0, 0, 1, 0, 1, 0, 1, 1, 0, 0, 0, 0, 1, 1], dtype=int64)"
      ]
     },
     "metadata": {},
     "execution_count": 40
    }
   ],
   "metadata": {}
  },
  {
   "cell_type": "code",
   "execution_count": 42,
   "source": [
    "#Pembuatan confusion matrix\r\n",
    "cmgnb = confusion_matrix(y_test, y_pred_gnb)\r\n",
    "print('Confusion matrix\\n\\n', cmgnb)\r\n",
    "\r\n",
    "#Perhitungan kategori dari Confusion Matrix\r\n",
    "tpgnb = cmgnb[1,1]\r\n",
    "tngnb = cmgnb[0,0]\r\n",
    "fpgnb = cmgnb[0,1]\r\n",
    "fngnb = cmgnb[1,0]\r\n",
    "\r\n",
    "print('True Positives(TP) = ', tpgnb)\r\n",
    "print('True Negatives(TN) = ', tngnb)\r\n",
    "print('False Positives(FP) = ', fpgnb)\r\n",
    "print('False Negatives(FN) = ', fngnb)\r\n",
    "\r\n",
    "#Perhitungan evaluation metric\r\n",
    "accugnb = (tpgnb+tngnb)/(tpgnb+tngnb+fpgnb+fngnb)\r\n",
    "misclassgnb = (fngnb+fpgnb)/(tpgnb+tngnb+fpgnb+fngnb)\r\n",
    "precisgnb = tpgnb/(tpgnb+fpgnb)\r\n",
    "sensignb = tpgnb/(tpgnb+fngnb)\r\n",
    "specignb = tngnb/(tngnb+fpgnb) \r\n",
    "f1gnb = 2 * (precisgnb*sensignb) / (precisgnb+sensignb)\r\n",
    "\r\n",
    "\r\n",
    "\r\n",
    "print('Overall Accuracy of Gaussian Naive Bayes is ',accugnb)\r\n",
    "print('Misclassgnbication of Gaussian Naive Bayes is ',misclassgnb)\r\n",
    "print('Precision of Gaussian Naive Bayes is ',precisgnb)\r\n",
    "print('Sensitivity of Gaussian Naive Bayes is ',sensignb)\r\n",
    "print('Specificity of Gaussian Naive Bayes is ',specignb)\r\n",
    "print('F-1 Score of Gaussian Naive Bayes is ',f1gnb)\r\n",
    "\r\n",
    "#Membuat Classification Report\r\n",
    "print(classification_report(y_test, y_pred_gnb))"
   ],
   "outputs": [
    {
     "output_type": "stream",
     "name": "stdout",
     "text": [
      "Confusion matrix\n",
      "\n",
      " [[101   1]\n",
      " [  0  88]]\n",
      "True Positives(TP) =  88\n",
      "True Negatives(TN) =  101\n",
      "False Positives(FP) =  1\n",
      "False Negatives(FN) =  0\n",
      "Overall Accuracy of Gaussian Naive Bayes is  0.9947368421052631\n",
      "Misclassgnbication of Gaussian Naive Bayes is  0.005263157894736842\n",
      "Precision of Gaussian Naive Bayes is  0.9887640449438202\n",
      "Sensitivity of Gaussian Naive Bayes is  1.0\n",
      "Specificity of Gaussian Naive Bayes is  0.9901960784313726\n",
      "F-1 Score of Gaussian Naive Bayes is  0.9943502824858756\n",
      "              precision    recall  f1-score   support\n",
      "\n",
      "           0       1.00      0.99      1.00       102\n",
      "           1       0.99      1.00      0.99        88\n",
      "\n",
      "    accuracy                           0.99       190\n",
      "   macro avg       0.99      1.00      0.99       190\n",
      "weighted avg       0.99      0.99      0.99       190\n",
      "\n"
     ]
    }
   ],
   "metadata": {}
  },
  {
   "cell_type": "markdown",
   "source": [
    "## Unsupervised Learning - Isolation Forest"
   ],
   "metadata": {}
  },
  {
   "cell_type": "code",
   "execution_count": 43,
   "source": [
    "from sklearn.ensemble import IsolationForest"
   ],
   "outputs": [],
   "metadata": {}
  },
  {
   "cell_type": "code",
   "execution_count": 44,
   "source": [
    "contamination = 0.5"
   ],
   "outputs": [],
   "metadata": {}
  },
  {
   "cell_type": "code",
   "execution_count": 45,
   "source": [
    "isofor = IsolationForest(contamination=contamination, n_estimators=1000)\r\n",
    "isofor.fit(X_train)"
   ],
   "outputs": [
    {
     "output_type": "execute_result",
     "data": {
      "text/plain": [
       "IsolationForest(contamination=0.5, n_estimators=1000)"
      ]
     },
     "metadata": {},
     "execution_count": 45
    }
   ],
   "metadata": {}
  },
  {
   "cell_type": "code",
   "execution_count": 46,
   "source": [
    "y_pred_if = isofor.predict(X_test)\r\n"
   ],
   "outputs": [],
   "metadata": {}
  },
  {
   "cell_type": "code",
   "execution_count": 47,
   "source": [
    "y_pred_if[y_pred_if == 1] = 0\r\n",
    "y_pred_if[y_pred_if== -1] = 1"
   ],
   "outputs": [],
   "metadata": {}
  },
  {
   "cell_type": "code",
   "execution_count": 48,
   "source": [
    "y_pred_if"
   ],
   "outputs": [
    {
     "output_type": "execute_result",
     "data": {
      "text/plain": [
       "array([1, 1, 0, 1, 1, 0, 0, 1, 1, 1, 1, 1, 0, 0, 0, 1, 1, 0, 0, 0, 0, 0,\n",
       "       0, 0, 1, 1, 0, 0, 1, 1, 0, 1, 0, 1, 1, 0, 1, 1, 1, 0, 0, 1, 1, 1,\n",
       "       0, 1, 1, 0, 1, 0, 0, 0, 1, 0, 1, 0, 1, 0, 0, 0, 1, 0, 0, 1, 0, 1,\n",
       "       0, 0, 1, 1, 1, 1, 0, 0, 1, 0, 0, 0, 0, 1, 0, 0, 1, 0, 0, 0, 1, 0,\n",
       "       1, 1, 1, 0, 1, 0, 0, 0, 0, 0, 0, 1, 0, 0, 1, 0, 0, 0, 0, 1, 1, 0,\n",
       "       1, 1, 0, 0, 0, 1, 0, 0, 1, 0, 1, 1, 0, 0, 0, 1, 1, 1, 0, 0, 0, 1,\n",
       "       0, 1, 1, 1, 0, 1, 1, 1, 0, 1, 1, 0, 1, 1, 0, 0, 0, 0, 1, 0, 1, 1,\n",
       "       1, 0, 1, 1, 0, 0, 1, 1, 1, 1, 0, 0, 1, 1, 1, 0, 0, 0, 1, 1, 1, 0,\n",
       "       0, 1, 1, 0, 1, 0, 1, 1, 1, 0, 0, 0, 1, 1])"
      ]
     },
     "metadata": {},
     "execution_count": 48
    }
   ],
   "metadata": {}
  },
  {
   "cell_type": "code",
   "execution_count": 49,
   "source": [
    "predicteddf = pd.DataFrame({'Actual': y_test,'Predicted': y_pred_if})\r\n",
    "predicteddf.value_counts()"
   ],
   "outputs": [
    {
     "output_type": "execute_result",
     "data": {
      "text/plain": [
       "Actual  Predicted\n",
       "0       0            85\n",
       "1       1            76\n",
       "0       1            17\n",
       "1       0            12\n",
       "dtype: int64"
      ]
     },
     "metadata": {},
     "execution_count": 49
    }
   ],
   "metadata": {}
  },
  {
   "cell_type": "code",
   "execution_count": 50,
   "source": [
    "#Pembuatan confusion matrix\r\n",
    "cmif = confusion_matrix(y_test, y_pred_if)\r\n",
    "print('Confusion matrix\\n\\n', cmif)"
   ],
   "outputs": [
    {
     "output_type": "stream",
     "name": "stdout",
     "text": [
      "Confusion matrix\n",
      "\n",
      " [[85 17]\n",
      " [12 76]]\n"
     ]
    }
   ],
   "metadata": {}
  },
  {
   "cell_type": "code",
   "execution_count": 51,
   "source": [
    "#Perhitungan kategori dari Confusion Matrix\r\n",
    "tpif = cmif[1,1]\r\n",
    "tnif = cmif[0,0]\r\n",
    "fpif = cmif[0,1]\r\n",
    "fnif = cmif[1,0]\r\n",
    "\r\n",
    "print('True Positives(TP) = ', tpif)\r\n",
    "print('True Negatives(TN) = ', tnif)\r\n",
    "print('False Positives(FP) = ', fpif)\r\n",
    "print('False Negatives(FN) = ', fnif)"
   ],
   "outputs": [
    {
     "output_type": "stream",
     "name": "stdout",
     "text": [
      "True Positives(TP) =  76\n",
      "True Negatives(TN) =  85\n",
      "False Positives(FP) =  17\n",
      "False Negatives(FN) =  12\n"
     ]
    }
   ],
   "metadata": {}
  },
  {
   "cell_type": "code",
   "execution_count": 52,
   "source": [
    "#Perhitungan evaluation metric\r\n",
    "accuif = (tpif+tnif)/(tpif+tnif+fpif+fnif)\r\n",
    "misclassif = (fnif+fpif)/(tpif+tnif+fpif+fnif)\r\n",
    "precisif = tpif/(tpif+fpif)\r\n",
    "sensiif = tpif/(tpif+fnif)\r\n",
    "speciif = tnif/(tnif+fpif) \r\n",
    "f1if = 2 * (precisif*sensiif) / (precisif+sensiif)\r\n",
    "\r\n",
    "\r\n",
    "\r\n",
    "print('Overall Accuracy of Isolation Forest is ',accuif)\r\n",
    "print('Misclassification of Isolation Forest is ',misclassif)\r\n",
    "print('Precision of Isolation Forest is ',precisif)\r\n",
    "print('Sensitivity of Isolation Forest is ',sensiif)\r\n",
    "print('Specificity of Isolation Forest is ',speciif)\r\n",
    "print('F-1 Score of Isolation Forest is ',f1if)"
   ],
   "outputs": [
    {
     "output_type": "stream",
     "name": "stdout",
     "text": [
      "Overall Accuracy of Isolation Forest is  0.8473684210526315\n",
      "Misclassification of Isolation Forest is  0.15263157894736842\n",
      "Precision of Isolation Forest is  0.8172043010752689\n",
      "Sensitivity of Isolation Forest is  0.8636363636363636\n",
      "Specificity of Isolation Forest is  0.8333333333333334\n",
      "F-1 Score of Isolation Forest is  0.8397790055248618\n"
     ]
    }
   ],
   "metadata": {}
  },
  {
   "cell_type": "code",
   "execution_count": 68,
   "source": [
    "#Membuat Classification Report\r\n",
    "print(classification_report(y_test, y_pred_if))"
   ],
   "outputs": [
    {
     "output_type": "stream",
     "name": "stdout",
     "text": [
      "              precision    recall  f1-score   support\n",
      "\n",
      "           0       0.88      0.83      0.85       102\n",
      "           1       0.82      0.86      0.84        88\n",
      "\n",
      "    accuracy                           0.85       190\n",
      "   macro avg       0.85      0.85      0.85       190\n",
      "weighted avg       0.85      0.85      0.85       190\n",
      "\n"
     ]
    }
   ],
   "metadata": {}
  },
  {
   "cell_type": "markdown",
   "source": [
    "## Unsupervised Learning - One Class SVM"
   ],
   "metadata": {}
  },
  {
   "cell_type": "code",
   "execution_count": 53,
   "source": [
    "from sklearn.svm import OneClassSVM\r\n"
   ],
   "outputs": [],
   "metadata": {}
  },
  {
   "cell_type": "code",
   "execution_count": 54,
   "source": [
    "oneclasssvm = OneClassSVM(nu=0.5)\r\n",
    "oneclasssvm.fit(X_train)"
   ],
   "outputs": [
    {
     "output_type": "execute_result",
     "data": {
      "text/plain": [
       "OneClassSVM()"
      ]
     },
     "metadata": {},
     "execution_count": 54
    }
   ],
   "metadata": {}
  },
  {
   "cell_type": "code",
   "execution_count": 55,
   "source": [
    "y_pred_svm = oneclasssvm.predict(X_test)\r\n",
    "y_pred_svm[y_pred_svm == 1] = 0\r\n",
    "y_pred_svm[y_pred_svm== -1] = 1"
   ],
   "outputs": [],
   "metadata": {}
  },
  {
   "cell_type": "code",
   "execution_count": 56,
   "source": [
    "oneclasssvmdf = pd.DataFrame({'Actual': y_test,'Predicted': y_pred_svm})\r\n",
    "oneclasssvmdf.value_counts()"
   ],
   "outputs": [
    {
     "output_type": "execute_result",
     "data": {
      "text/plain": [
       "Actual  Predicted\n",
       "1       1            72\n",
       "0       0            71\n",
       "        1            31\n",
       "1       0            16\n",
       "dtype: int64"
      ]
     },
     "metadata": {},
     "execution_count": 56
    }
   ],
   "metadata": {}
  },
  {
   "cell_type": "code",
   "execution_count": 69,
   "source": [
    "#Pembuatan confusion matrix\r\n",
    "cmsvm = confusion_matrix(y_test, y_pred_svm)\r\n",
    "print('Confusion matrix\\n\\n', cmsvm)\r\n",
    "\r\n",
    "#Perhitungan kategori dari Confusion Matrix\r\n",
    "tpsvm = cmsvm[1,1]\r\n",
    "tnsvm = cmsvm[0,0]\r\n",
    "fpsvm = cmsvm[0,1]\r\n",
    "fnsvm = cmsvm[1,0]\r\n",
    "\r\n",
    "print('True Positives(TP) = ', tpsvm)\r\n",
    "print('True Negatives(TN) = ', tnsvm)\r\n",
    "print('False Positives(FP) = ', fpsvm)\r\n",
    "print('False Negatives(FN) = ', fnsvm)\r\n",
    "\r\n",
    "#Perhitungan evaluation metric\r\n",
    "accusvm = (tpsvm+tnsvm)/(tpsvm+tnsvm+fpsvm+fnsvm)\r\n",
    "misclasssvm = (fnsvm+fpsvm)/(tpsvm+tnsvm+fpsvm+fnsvm)\r\n",
    "precissvm = tpsvm/(tpsvm+fpsvm)\r\n",
    "sensisvm = tpsvm/(tpsvm+fnsvm)\r\n",
    "specisvm = tnsvm/(tnsvm+fpsvm) \r\n",
    "f1svm = 2 * (precissvm*sensisvm) / (precissvm+sensisvm)\r\n",
    "\r\n",
    "\r\n",
    "\r\n",
    "print('Overall Accuracy of One Class SVM is ',accusvm)\r\n",
    "print('Misclasssvmication of One Class SVM is ',misclasssvm)\r\n",
    "print('Precision of One Class SVM is ',precissvm)\r\n",
    "print('Sensitivity of One Class SVM is ',sensisvm)\r\n",
    "print('Specsvmicity of One Class SVM is ',specisvm)\r\n",
    "print('F-1 Score of One Class SVM is ',f1svm)\r\n",
    "\r\n",
    "#Membuat Classification Report\r\n",
    "print(classification_report(y_test, y_pred_svm))"
   ],
   "outputs": [
    {
     "output_type": "stream",
     "name": "stdout",
     "text": [
      "Confusion matrix\n",
      "\n",
      " [[71 31]\n",
      " [16 72]]\n",
      "True Positives(TP) =  72\n",
      "True Negatives(TN) =  71\n",
      "False Positives(FP) =  31\n",
      "False Negatives(FN) =  16\n",
      "Overall Accuracy of One Class SVM is  0.7526315789473684\n",
      "Misclasssvmication of One Class SVM is  0.24736842105263157\n",
      "Precision of One Class SVM is  0.6990291262135923\n",
      "Sensitivity of One Class SVM is  0.8181818181818182\n",
      "Specsvmicity of One Class SVM is  0.696078431372549\n",
      "F-1 Score of One Class SVM is  0.7539267015706808\n",
      "              precision    recall  f1-score   support\n",
      "\n",
      "           0       0.82      0.70      0.75       102\n",
      "           1       0.70      0.82      0.75        88\n",
      "\n",
      "    accuracy                           0.75       190\n",
      "   macro avg       0.76      0.76      0.75       190\n",
      "weighted avg       0.76      0.75      0.75       190\n",
      "\n"
     ]
    }
   ],
   "metadata": {}
  },
  {
   "cell_type": "markdown",
   "source": [
    "## Unsupervised Learning - Local Outlier Factor"
   ],
   "metadata": {}
  },
  {
   "cell_type": "code",
   "execution_count": 58,
   "source": [
    "from sklearn.neighbors import LocalOutlierFactor\r\n"
   ],
   "outputs": [],
   "metadata": {}
  },
  {
   "cell_type": "code",
   "execution_count": 59,
   "source": [
    "#Definisi Model LOF\r\n",
    "lof = LocalOutlierFactor(novelty=True, contamination=0.5)\r\n"
   ],
   "outputs": [],
   "metadata": {}
  },
  {
   "cell_type": "code",
   "execution_count": 60,
   "source": [
    "lof.fit(X_train)"
   ],
   "outputs": [
    {
     "output_type": "execute_result",
     "data": {
      "text/plain": [
       "LocalOutlierFactor(contamination=0.5, novelty=True)"
      ]
     },
     "metadata": {},
     "execution_count": 60
    }
   ],
   "metadata": {}
  },
  {
   "cell_type": "code",
   "execution_count": 61,
   "source": [
    "y_pred_lof = lof.predict(X_test)\r\n",
    "y_pred_lof[y_pred_lof == 1] = 0\r\n",
    "y_pred_lof[y_pred_lof== -1] = 1\r\n",
    "y_pred_lof"
   ],
   "outputs": [
    {
     "output_type": "execute_result",
     "data": {
      "text/plain": [
       "array([1, 0, 1, 1, 1, 1, 0, 1, 0, 1, 1, 1, 0, 1, 1, 1, 1, 0, 1, 0, 0, 0,\n",
       "       1, 0, 1, 1, 0, 1, 0, 1, 1, 1, 1, 1, 1, 0, 0, 1, 1, 1, 1, 1, 1, 1,\n",
       "       1, 1, 1, 1, 0, 1, 0, 0, 1, 1, 1, 0, 1, 0, 1, 0, 1, 0, 0, 1, 0, 1,\n",
       "       0, 0, 1, 0, 1, 1, 0, 1, 1, 0, 1, 1, 0, 1, 0, 0, 1, 0, 1, 1, 1, 1,\n",
       "       1, 1, 1, 0, 1, 0, 1, 1, 0, 0, 1, 1, 0, 0, 1, 1, 0, 0, 0, 1, 1, 1,\n",
       "       1, 1, 0, 1, 1, 1, 1, 0, 0, 1, 1, 1, 0, 1, 1, 1, 1, 1, 0, 1, 0, 0,\n",
       "       1, 1, 0, 0, 0, 1, 0, 1, 1, 0, 0, 0, 1, 1, 0, 1, 0, 0, 0, 0, 1, 1,\n",
       "       0, 1, 0, 1, 1, 0, 0, 1, 1, 0, 0, 1, 1, 1, 1, 1, 1, 1, 1, 1, 1, 1,\n",
       "       0, 0, 1, 0, 1, 1, 0, 0, 1, 0, 1, 0, 1, 0])"
      ]
     },
     "metadata": {},
     "execution_count": 61
    }
   ],
   "metadata": {}
  },
  {
   "cell_type": "code",
   "execution_count": 62,
   "source": [
    "dflof = pd.DataFrame({'Actual': y_test,'Predicted': y_pred_lof})\r\n",
    "dflof.value_counts()"
   ],
   "outputs": [
    {
     "output_type": "execute_result",
     "data": {
      "text/plain": [
       "Actual  Predicted\n",
       "1       1            59\n",
       "0       1            58\n",
       "        0            44\n",
       "1       0            29\n",
       "dtype: int64"
      ]
     },
     "metadata": {},
     "execution_count": 62
    }
   ],
   "metadata": {}
  },
  {
   "cell_type": "code",
   "execution_count": 70,
   "source": [
    "#Pembuatan confusion matrix\r\n",
    "cmlof = confusion_matrix(y_test, y_pred_lof)\r\n",
    "print('Confusion matrix\\n\\n', cmlof)\r\n",
    "\r\n",
    "#Perhitungan kategori dari Confusion Matrix\r\n",
    "tplof = cmlof[1,1]\r\n",
    "tnlof = cmlof[0,0]\r\n",
    "fplof = cmlof[0,1]\r\n",
    "fnlof = cmlof[1,0]\r\n",
    "\r\n",
    "print('True Positives(TP) = ', tplof)\r\n",
    "print('True Negatives(TN) = ', tnlof)\r\n",
    "print('False Positives(FP) = ', fplof)\r\n",
    "print('False Negatives(FN) = ', fnlof)\r\n",
    "\r\n",
    "#Perhitungan evaluation metric\r\n",
    "acculof = (tplof+tnlof)/(tplof+tnlof+fplof+fnlof)\r\n",
    "misclasslof = (fnlof+fplof)/(tplof+tnlof+fplof+fnlof)\r\n",
    "precislof = tplof/(tplof+fplof)\r\n",
    "sensilof = tplof/(tplof+fnlof)\r\n",
    "specilof = tnlof/(tnlof+fplof) \r\n",
    "f1lof = 2 * (precislof*sensilof) / (precislof+sensilof)\r\n",
    "\r\n",
    "\r\n",
    "\r\n",
    "print('Overall Accuracy of Local Outlier Factor is ',acculof)\r\n",
    "print('Misclasslofication of Local Outlier Factor is ',misclasslof)\r\n",
    "print('Precision of Local Outlier Factor is ',precislof)\r\n",
    "print('Sensitivity of Local Outlier Factor is ',sensilof)\r\n",
    "print('Specloficity of Local Outlier Factor is ',specilof)\r\n",
    "print('F-1 Score of Local Outlier Factor is ',f1lof)\r\n",
    "\r\n",
    "#Membuat Classification Report\r\n",
    "print(classification_report(y_test, y_pred_lof))"
   ],
   "outputs": [
    {
     "output_type": "stream",
     "name": "stdout",
     "text": [
      "Confusion matrix\n",
      "\n",
      " [[44 58]\n",
      " [29 59]]\n",
      "True Positives(TP) =  59\n",
      "True Negatives(TN) =  44\n",
      "False Positives(FP) =  58\n",
      "False Negatives(FN) =  29\n",
      "Overall Accuracy of Local Outlier Factor is  0.5421052631578948\n",
      "Misclasslofication of Local Outlier Factor is  0.45789473684210524\n",
      "Precision of Local Outlier Factor is  0.5042735042735043\n",
      "Sensitivity of Local Outlier Factor is  0.6704545454545454\n",
      "Specloficity of Local Outlier Factor is  0.43137254901960786\n",
      "F-1 Score of Local Outlier Factor is  0.5756097560975609\n",
      "              precision    recall  f1-score   support\n",
      "\n",
      "           0       0.60      0.43      0.50       102\n",
      "           1       0.50      0.67      0.58        88\n",
      "\n",
      "    accuracy                           0.54       190\n",
      "   macro avg       0.55      0.55      0.54       190\n",
      "weighted avg       0.56      0.54      0.54       190\n",
      "\n"
     ]
    }
   ],
   "metadata": {}
  },
  {
   "cell_type": "markdown",
   "source": [
    "## Model Evaluation"
   ],
   "metadata": {}
  },
  {
   "cell_type": "code",
   "execution_count": 64,
   "source": [
    "evalrf = [tprf,tnrf,fprf,fnrf,accurf,misclassrf,precisrf,sensirf,specirf,f1rf]\r\n",
    "evalgnb = [tpgnb,tngnb,fpgnb,fngnb,accugnb,misclassgnb,precisgnb,sensignb,specignb,f1gnb]\r\n",
    "evalif = [tpif,tnif,fpif,fnif,accuif,misclassif,precisif,sensiif,speciif,f1if]\r\n",
    "evalsvm = [tpsvm,tnsvm,fpsvm,fnsvm,accusvm,misclasssvm,precissvm,sensisvm,specisvm,f1svm]\r\n",
    "evallof = [tplof,tnlof,fplof,fnlof,acculof,misclasslof,precislof,sensilof,specilof,f1lof]\r\n"
   ],
   "outputs": [],
   "metadata": {}
  },
  {
   "cell_type": "code",
   "execution_count": 65,
   "source": [
    "evaldf = pd.DataFrame(evalrf, columns=['Random Forest'], index=['True Positive','True Negative','Fa;se Positive','False Negative','Accuracy','Misclassification','Precision','Sensitivity/Recall','Specificity','F-1 Score'])"
   ],
   "outputs": [],
   "metadata": {}
  },
  {
   "cell_type": "code",
   "execution_count": 66,
   "source": [
    "evaldf['Gaussian Naive Bayes'] = evalgnb\r\n",
    "evaldf['Isolation Forest'] = evalif\r\n",
    "evaldf['One Class SVM'] = evalsvm\r\n",
    "evaldf['Local Outlier Factor'] = evallof"
   ],
   "outputs": [],
   "metadata": {}
  },
  {
   "cell_type": "code",
   "execution_count": 67,
   "source": [
    "evaldf"
   ],
   "outputs": [
    {
     "output_type": "execute_result",
     "data": {
      "text/html": [
       "<div>\n",
       "<style scoped>\n",
       "    .dataframe tbody tr th:only-of-type {\n",
       "        vertical-align: middle;\n",
       "    }\n",
       "\n",
       "    .dataframe tbody tr th {\n",
       "        vertical-align: top;\n",
       "    }\n",
       "\n",
       "    .dataframe thead th {\n",
       "        text-align: right;\n",
       "    }\n",
       "</style>\n",
       "<table border=\"1\" class=\"dataframe\">\n",
       "  <thead>\n",
       "    <tr style=\"text-align: right;\">\n",
       "      <th></th>\n",
       "      <th>Random Forest</th>\n",
       "      <th>Gaussian Naive Bayes</th>\n",
       "      <th>Isolation Forest</th>\n",
       "      <th>One Class SVM</th>\n",
       "      <th>Local Outlier Factor</th>\n",
       "    </tr>\n",
       "  </thead>\n",
       "  <tbody>\n",
       "    <tr>\n",
       "      <th>True Positive</th>\n",
       "      <td>88.00000</td>\n",
       "      <td>88.00000</td>\n",
       "      <td>76.00000</td>\n",
       "      <td>72.00000</td>\n",
       "      <td>59.00000</td>\n",
       "    </tr>\n",
       "    <tr>\n",
       "      <th>True Negative</th>\n",
       "      <td>102.00000</td>\n",
       "      <td>101.00000</td>\n",
       "      <td>85.00000</td>\n",
       "      <td>71.00000</td>\n",
       "      <td>44.00000</td>\n",
       "    </tr>\n",
       "    <tr>\n",
       "      <th>Fa;se Positive</th>\n",
       "      <td>0.00000</td>\n",
       "      <td>1.00000</td>\n",
       "      <td>17.00000</td>\n",
       "      <td>31.00000</td>\n",
       "      <td>58.00000</td>\n",
       "    </tr>\n",
       "    <tr>\n",
       "      <th>False Negative</th>\n",
       "      <td>0.00000</td>\n",
       "      <td>0.00000</td>\n",
       "      <td>12.00000</td>\n",
       "      <td>16.00000</td>\n",
       "      <td>29.00000</td>\n",
       "    </tr>\n",
       "    <tr>\n",
       "      <th>Accuracy</th>\n",
       "      <td>1.00000</td>\n",
       "      <td>0.99474</td>\n",
       "      <td>0.84737</td>\n",
       "      <td>0.75263</td>\n",
       "      <td>0.54211</td>\n",
       "    </tr>\n",
       "    <tr>\n",
       "      <th>Misclassification</th>\n",
       "      <td>0.00000</td>\n",
       "      <td>0.00526</td>\n",
       "      <td>0.15263</td>\n",
       "      <td>0.24737</td>\n",
       "      <td>0.45789</td>\n",
       "    </tr>\n",
       "    <tr>\n",
       "      <th>Precision</th>\n",
       "      <td>1.00000</td>\n",
       "      <td>0.98876</td>\n",
       "      <td>0.81720</td>\n",
       "      <td>0.69903</td>\n",
       "      <td>0.50427</td>\n",
       "    </tr>\n",
       "    <tr>\n",
       "      <th>Sensitivity/Recall</th>\n",
       "      <td>1.00000</td>\n",
       "      <td>1.00000</td>\n",
       "      <td>0.86364</td>\n",
       "      <td>0.81818</td>\n",
       "      <td>0.67045</td>\n",
       "    </tr>\n",
       "    <tr>\n",
       "      <th>Specificity</th>\n",
       "      <td>1.00000</td>\n",
       "      <td>0.99020</td>\n",
       "      <td>0.83333</td>\n",
       "      <td>0.69608</td>\n",
       "      <td>0.43137</td>\n",
       "    </tr>\n",
       "    <tr>\n",
       "      <th>F-1 Score</th>\n",
       "      <td>1.00000</td>\n",
       "      <td>0.99435</td>\n",
       "      <td>0.83978</td>\n",
       "      <td>0.75393</td>\n",
       "      <td>0.57561</td>\n",
       "    </tr>\n",
       "  </tbody>\n",
       "</table>\n",
       "</div>"
      ],
      "text/plain": [
       "                    Random Forest  Gaussian Naive Bayes  Isolation Forest  \\\n",
       "True Positive            88.00000              88.00000          76.00000   \n",
       "True Negative           102.00000             101.00000          85.00000   \n",
       "Fa;se Positive            0.00000               1.00000          17.00000   \n",
       "False Negative            0.00000               0.00000          12.00000   \n",
       "Accuracy                  1.00000               0.99474           0.84737   \n",
       "Misclassification         0.00000               0.00526           0.15263   \n",
       "Precision                 1.00000               0.98876           0.81720   \n",
       "Sensitivity/Recall        1.00000               1.00000           0.86364   \n",
       "Specificity               1.00000               0.99020           0.83333   \n",
       "F-1 Score                 1.00000               0.99435           0.83978   \n",
       "\n",
       "                    One Class SVM  Local Outlier Factor  \n",
       "True Positive            72.00000              59.00000  \n",
       "True Negative            71.00000              44.00000  \n",
       "Fa;se Positive           31.00000              58.00000  \n",
       "False Negative           16.00000              29.00000  \n",
       "Accuracy                  0.75263               0.54211  \n",
       "Misclassification         0.24737               0.45789  \n",
       "Precision                 0.69903               0.50427  \n",
       "Sensitivity/Recall        0.81818               0.67045  \n",
       "Specificity               0.69608               0.43137  \n",
       "F-1 Score                 0.75393               0.57561  "
      ]
     },
     "metadata": {},
     "execution_count": 67
    }
   ],
   "metadata": {}
  },
  {
   "cell_type": "markdown",
   "source": [
    "Dari Data Diatas dapat diambil kesimpulan bahwa: </br>\r\n",
    "1. Metode Supervised Learning memiliki nilai recall yang jauh lebih tinggi, yang berarti metode ini lebih baik dalam mendeteksi apakah terdapat transaksi yang digolongkan fraud atau tidak.\r\n",
    "2. Hasil permodelan dari model random forest sangatlah tepat, namun dikhawatirkan hal ini akan mengakibatkan overfitting\r\n",
    "3. Metode Supervised Learning hanya dapat digunakan apabila tersedia fitur/variabel yang menandakan apakah transaksi tersebut fraud atau tidak.\r\n",
    "4. Jika tidak tersedia fitur/variabel penanda fraud, maka metode unsupervised learning dapat digunakan.\r\n",
    "5. Dari hasil model unsupervised learning, untuk model Isolation Forest memiliki nilai sensitivity/recall yang paling tinggi sebesar 88.63%."
   ],
   "metadata": {}
  },
  {
   "cell_type": "markdown",
   "source": [
    "## Kesimpulan\r\n",
    "1. Tujuan dari permodelan ini adalah untuk melakukan anomaly detection \r\n",
    "2. Data yang digunakan adalah data transaksi kartu kredit. </br>\r\n",
    "Namun dikarenakan kerahasiaan data, variabel yang disediakan merupakan variabel turunan dari PCA, dan variabel aslinya tidak dapat diberikan. </br>\r\n",
    "Terdapat 2 Variabel selain hasil PCA yaitu Time yang berarti waktu antar transaksi dan Amount yang berarti jumlah transaksi</br> \r\n",
    "3. Dari hasil data cleaning, tidak terdapat adanya missing values, namun terdapat 1.081 baris data yang dianggap duplikat dan kemudian dihapus\r\n",
    "4. Dari proses eksplorasi data, didapatkan hasil bahwa data fraud dan non fraud sangat imbalance dimana untuk data fraud hanya 0.16% dari total data\r\n",
    "5. Dikarenakan data sangat imbalance, kami melakukan resampling dengan cara memilih proporsi data yang sama antara data fraud dan data non fraud </br>\r\n",
    "Dikarenakan untuk data fraud terdapat 473 data, maka untuk data non fraud kami ambil data sebanyak 473 data juga.\r\n",
    "6. Pada dataset yang pada digunakan saat ini, terdapat label yang menandakan apakah data tersebut fraud ataukah tidak. </br>\r\n",
    "Sehingga untuk anomaly detection dapat menggunakan model supervised maupun unsupervised. </br>\r\n",
    "Kami akan menggunakan 2 pendekatan supervised dan unsupervised:\r\n",
    "    1. Untuk model supervised, kami akan melakukan model selection dengan menggunakan KFold untuk model logistic regression, SVM, Decision Tree, Random Forest, K Nearest Neighbour, dan Naive Bayes.\r\n",
    "    2. Dari hasil kfold selection dengan mengutamakan nilai recall, didapatkan bahwa model random forest dan naive bayes memiliki nilai recall tertinggi\r\n",
    "    3. Untuk model unsupervised, kami akan melakukan isolation forest, one class svm dan Local Outlier Factor\r\n",
    "7. Dari Data Diatas dapat diambil kesimpulan bahwa: </br>\r\n",
    "    1. Metode Supervised Learning memiliki nilai recall yang lebih tinggi, yang berarti metode ini lebih baik dalam mendeteksi apakah terdapat transaksi yang digolongkan fraud atau tidak.\r\n",
    "    2. Hasil permodelan dari model random forest sangatlah tepat, namun dikhawatirkan hal ini akan mengakibatkan overfitting\r\n",
    "    3. Metode Supervised Learning hanya dapat digunakan apabila tersedia fitur/variabel yang menandakan apakah transaksi tersebut fraud atau tidak.\r\n",
    "    4. Jika tidak tersedia fitur/variabel penanda fraud, maka metode unsupervised learning dapat digunakan.\r\n",
    "    5. Dari hasil model unsupervised learning, untuk model Isolation Forest memiliki nilai sensitivity/recall yang paling tinggi sebesar 88.63%."
   ],
   "metadata": {}
  }
 ],
 "metadata": {
  "orig_nbformat": 4,
  "language_info": {
   "name": "python",
   "version": "3.8.8",
   "mimetype": "text/x-python",
   "codemirror_mode": {
    "name": "ipython",
    "version": 3
   },
   "pygments_lexer": "ipython3",
   "nbconvert_exporter": "python",
   "file_extension": ".py"
  },
  "kernelspec": {
   "name": "python3",
   "display_name": "Python 3.8.8 64-bit ('base': conda)"
  },
  "interpreter": {
   "hash": "6f5a3333282cc3cade2967a8d6ad94d5be3d1b19105904835c796cab9a1eb63b"
  }
 },
 "nbformat": 4,
 "nbformat_minor": 2
}